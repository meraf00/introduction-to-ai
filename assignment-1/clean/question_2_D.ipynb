{
 "cells": [
  {
   "cell_type": "code",
   "execution_count": 1,
   "metadata": {},
   "outputs": [],
   "source": [
    "import os\n",
    "import random\n",
    "\n",
    "import matplotlib.pyplot as plt\n",
    "%matplotlib inline\n",
    "\n",
    "from graph import *\n",
    "import utils\n",
    "\n",
    "\n"
   ]
  },
  {
   "attachments": {},
   "cell_type": "markdown",
   "metadata": {},
   "source": [
    "## Helper functions for testing search algorithms\n"
   ]
  },
  {
   "cell_type": "code",
   "execution_count": 2,
   "metadata": {},
   "outputs": [],
   "source": [
    "def generate_test_graphs():\n",
    "    test_graphs = []\n",
    "\n",
    "    for node_count in [10, 20, 30, 40]:\n",
    "        for edge_probability in [0.2, 0.4, 0.6, 0.8]:\n",
    "            graph = utils.generate_graph(\n",
    "                node_count, edge_probability, min_weight=1, max_weight=100)\n",
    "            test_graphs.append(graph)\n",
    "\n",
    "    return test_graphs\n",
    "\n",
    "\n",
    "def generate_search_problems(graph):\n",
    "    # Randomly selects 5 nodes from graph and pairs all of them them to create search problem\n",
    "    # returns 45 pairs\n",
    "\n",
    "    selected_nodes = random.sample(graph.nodes, k=5)\n",
    "\n",
    "    start_end_nodes = []\n",
    "\n",
    "    for i in range(len(selected_nodes)):\n",
    "        for j in range(i + 1, len(selected_nodes)):\n",
    "            start_end_nodes.append((selected_nodes[i], selected_nodes[j]))\n",
    "\n",
    "    return start_end_nodes"
   ]
  },
  {
   "cell_type": "code",
   "execution_count": 5,
   "metadata": {},
   "outputs": [],
   "source": [
    "def test_performance(run_n_times=5):\n",
    "    # generate test graph\n",
    "    test_graphs = generate_test_graphs()\n",
    "\n",
    "    # search algorithms to test\n",
    "    search_algorithms = [(depth_first_search, {}),\n",
    "                         (breadth_first_search, {}),\n",
    "                         (uniform_cost_search, {}),\n",
    "                         (iterative_deepening, {\"max_depth_limit\": 100}),\n",
    "                         (greedy_search, {\"heuristic_func\": None}),\n",
    "                         (a_star_search, {\"heuristic_func\": None})]\n",
    "\n",
    "    # track algorithm performance\n",
    "    algorithm_performance = {depth_first_search: [],\n",
    "                             breadth_first_search: [],\n",
    "                             uniform_cost_search: [],\n",
    "                             iterative_deepening: [],\n",
    "                             greedy_search: [],\n",
    "                             a_star_search: []}\n",
    "\n",
    "    for graph in test_graphs:\n",
    "        search_problems = generate_search_problems(graph)\n",
    "\n",
    "        for algorithm, args in search_algorithms:\n",
    "\n",
    "            algorithm_running_time = 0\n",
    "\n",
    "            for start_node, goal_node in search_problems:\n",
    "                # generate heuristic function for this search problem\n",
    "                heuristic_function = utils.generate_heuristic_function(\n",
    "                    graph, goal_node=goal_node)\n",
    "\n",
    "                if \"heuristic_func\" in args:\n",
    "                    args.update(\n",
    "                        {\n",
    "                            \"graph\": graph,\n",
    "                            \"start_node\": start_node,\n",
    "                            \"end_node\": goal_node,\n",
    "                            \"heuristic_func\": heuristic_function\n",
    "                        }\n",
    "                    )\n",
    "\n",
    "                else:\n",
    "                    args.update(\n",
    "                        {\n",
    "                            \"graph\": graph,\n",
    "                            \"start_node\": start_node,\n",
    "                            \"end_node\": goal_node\n",
    "                        }\n",
    "                    )\n",
    "\n",
    "                runtime, path_length = utils.benchmark(\n",
    "                    algorithm, args, run_n_times=run_n_times)\n",
    "                algorithm_running_time += runtime\n",
    "\n",
    "                algorithm_performance[algorithm].append(\n",
    "                    {\n",
    "                        \"start\": start_node,\n",
    "                        \"end\": goal_node,\n",
    "                        \"node_count\": len(graph.nodes),\n",
    "                        \"runtime\": algorithm_running_time,\n",
    "                        \"path_length\": path_length\n",
    "                    }\n",
    "                )\n",
    "\n",
    "    return algorithm_performance"
   ]
  },
  {
   "attachments": {},
   "cell_type": "markdown",
   "metadata": {},
   "source": [
    "## Run tests"
   ]
  },
  {
   "cell_type": "code",
   "execution_count": 7,
   "metadata": {},
   "outputs": [],
   "source": [
    "performance_report = test_performance(run_n_times=5)"
   ]
  },
  {
   "cell_type": "code",
   "execution_count": null,
   "metadata": {},
   "outputs": [],
   "source": []
  }
 ],
 "metadata": {
  "kernelspec": {
   "display_name": "Python 3",
   "language": "python",
   "name": "python3"
  },
  "language_info": {
   "codemirror_mode": {
    "name": "ipython",
    "version": 3
   },
   "file_extension": ".py",
   "mimetype": "text/x-python",
   "name": "python",
   "nbconvert_exporter": "python",
   "pygments_lexer": "ipython3",
   "version": "3.10.6"
  },
  "orig_nbformat": 4
 },
 "nbformat": 4,
 "nbformat_minor": 2
}
