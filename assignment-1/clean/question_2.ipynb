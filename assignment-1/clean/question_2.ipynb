{
 "cells": [
  {
   "cell_type": "code",
   "execution_count": null,
   "metadata": {},
   "outputs": [],
   "source": [
    "from collections import defaultdict\n",
    "from random import sample\n",
    "# from graph import *\n",
    "from utils import romania_coord_distance_km, load_city_graph\n",
    "from utils import benchmark\n",
    "from graph.search_algorithms import (\n",
    "    a_star_search,\n",
    "    depth_first_search,\n",
    "    breadth_first_search,\n",
    "    greedy_search,\n",
    "    uniform_cost_search,\n",
    "    iterative_deepening\n",
    ")"
   ]
  },
  {
   "attachments": {},
   "cell_type": "markdown",
   "metadata": {},
   "source": [
    "### Generate graph"
   ]
  },
  {
   "cell_type": "code",
   "execution_count": null,
   "metadata": {},
   "outputs": [],
   "source": [
    "graph = load_city_graph()\n",
    "selected_cities = sample(graph.nodes, 10)\n",
    "\n",
    "algorithms = {}\n",
    "algorithms[0] = breadth_first_search\n",
    "algorithms[1] = depth_first_search\n",
    "algorithms[2] = uniform_cost_search\n",
    "algorithms[3] = iterative_deepening\n",
    "algorithms[4] = greedy_search\n",
    "algorithms[5] = a_star_search"
   ]
  },
  {
   "attachments": {},
   "cell_type": "markdown",
   "metadata": {},
   "source": [
    "#### Experiment and record the running time and solution length of algorithms"
   ]
  },
  {
   "cell_type": "code",
   "execution_count": null,
   "metadata": {},
   "outputs": [],
   "source": [
    "with open('result.csv', 'w') as res:\n",
    "    res.write(\"Algorithm,City One,City Two,Average Time,Path Length\\n\")\n",
    "\n",
    "\n",
    "    average = {\n",
    "        'breadth_first_search': [0, 0],\n",
    "        'depth_first_search': [0, 0],\n",
    "        'uniform_cost_search': [0, 0],\n",
    "        'iterative_deepening': [0, 0],\n",
    "        'greedy_search': [0, 0],\n",
    "        'a_star_search': [0, 0]\n",
    "    }\n",
    "    \n",
    "    for idx1 in range(len(selected_cities)):\n",
    "        for idx2 in range(idx1 + 1, len(selected_cities)):\n",
    "\n",
    "            city_one, city_two = selected_cities[idx1], selected_cities[idx2]\n",
    "\n",
    "            for i in range(6):\n",
    "                args = {\n",
    "                    'graph': graph,\n",
    "                    'start_node': city_one,\n",
    "                    'end_node': city_two\n",
    "                }\n",
    "\n",
    "                if i >= 4:\n",
    "                    args['heuristic_func'] = lambda node: romania_coord_distance_km(node, city_two)\n",
    "\n",
    "\n",
    "                runtime = benchmark(algorithm=algorithms[i],args=args)[0]\n",
    "                solution_length = benchmark(algorithm=algorithms[i],args=args)[1]\n",
    "                actual_distance = romania_coord_distance_km(city_one, city_two)\n",
    "\n",
    "                average[algorithms[i].__name__][0] += runtime\n",
    "                average[algorithms[i].__name__][1] += solution_length\n",
    "\n",
    "                res.write(f'{algorithms[i].__name__},{city_one},{city_two},{runtime},{solution_length}\\n')\n",
    "\n",
    "    res.write('\\nAlgorithm, time, solution length\\n')\n",
    "    for i in average:\n",
    "\n",
    "        res.write(f'{i}, {average[i][0]}, {average[i][1]}\\n')\n",
    "\n",
    "    res.close()"
   ]
  }
 ],
 "metadata": {
  "kernelspec": {
   "display_name": "Python 3",
   "language": "python",
   "name": "python3"
  },
  "language_info": {
   "name": "python",
   "version": "3.11.2"
  },
  "orig_nbformat": 4
 },
 "nbformat": 4,
 "nbformat_minor": 2
}
