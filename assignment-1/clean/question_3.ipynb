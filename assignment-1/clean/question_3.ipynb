{
 "cells": [
  {
   "cell_type": "code",
   "execution_count": 4,
   "metadata": {},
   "outputs": [],
   "source": [
    "\n",
    "from collections import defaultdict\n",
    "from graph import *\n",
    "import utils"
   ]
  },
  {
   "cell_type": "code",
   "execution_count": 7,
   "metadata": {},
   "outputs": [
    {
     "name": "stdout",
     "output_type": "stream",
     "text": [
      "{'Oradea': [('Zerind', 71), ('Sibiu', 151)], 'Zerind': [('Oradea', 71), ('Arad', 75)], 'Sibiu': [('Oradea', 151), ('Arad', 140), ('Rimnicu Vilcea', 80), ('Fagaras', 99)], 'Arad': [('Zerind', 75), ('Sibiu', 140), ('Timisoara', 118)], 'Timisoara': [('Arad', 118), ('Lugoj', 111)], 'Rimnicu Vilcea': [('Sibiu', 80), ('Pitesti', 97), ('Craiova', 146)], 'Fagaras': [('Sibiu', 99), ('Bucharest', 211)], 'Lugoj': [('Timisoara', 111), ('Mehadia', 70)], 'Bucharest': [('Fagaras', 211), ('Pitesti', 101), ('Giurgiu', 90), ('Urziceni', 85)], 'Pitesti': [('Rimnicu Vilcea', 97), ('Craiova', 138), ('Bucharest', 101)], 'Craiova': [('Rimnicu Vilcea', 146), ('Pitesti', 138), ('Drobeta', 120)], 'Mehadia': [('Lugoj', 70), ('Drobeta', 75)], 'Drobeta': [('Craiova', 120), ('Mehadia', 75)], 'Giurgiu': [('Bucharest', 90)], 'Urziceni': [('Bucharest', 85), ('Hirsova', 98), ('Vaslui', 142)], 'Hirsova': [('Urziceni', 98), ('Eforie', 86)], 'Eforie': [('Hirsova', 86)], 'Vaslui': [('Urziceni', 142), ('Iasi', 92)], 'Iasi': [('Vaslui', 92), ('Neamt', 87)], 'Neamt': [('Iasi', 87)]}\n"
     ]
    }
   ],
   "source": [
    "romania_graph = utils.load_city_graph()"
   ]
  },
  {
   "cell_type": "code",
   "execution_count": 31,
   "metadata": {},
   "outputs": [
    {
     "name": "stdout",
     "output_type": "stream",
     "text": [
      "degree_centrality\n",
      "{'Oradea': 0.10526315789473684, 'Zerind': 0.10526315789473684, 'Sibiu': 0.21052631578947367, 'Arad': 0.15789473684210525, 'Timisoara': 0.10526315789473684, 'Rimnicu Vilcea': 0.15789473684210525, 'Fagaras': 0.10526315789473684, 'Lugoj': 0.10526315789473684, 'Bucharest': 0.21052631578947367, 'Pitesti': 0.15789473684210525, 'Craiova': 0.15789473684210525, 'Mehadia': 0.10526315789473684, 'Drobeta': 0.10526315789473684, 'Giurgiu': 0.05263157894736842, 'Urziceni': 0.15789473684210525, 'Hirsova': 0.10526315789473684, 'Eforie': 0.05263157894736842, 'Vaslui': 0.10526315789473684, 'Iasi': 0.10526315789473684, 'Neamt': 0.05263157894736842}\n",
      "\n",
      "closeness_centrality\n",
      "{'Oradea': 0.002332433095998036, 'Zerind': 0.002197547999074717, 'Sibiu': 0.003023070803500398, 'Arad': 0.00255170561375235, 'Timisoara': 0.002170436371944254, 'Rimnicu Vilcea': 0.003294607248135946, 'Fagaras': 0.002819409407924024, 'Lugoj': 0.0021687022029448695, 'Bucharest': 0.003287766049489531, 'Pitesti': 0.0034289839379173436, 'Craiova': 0.002938447262604392, 'Mehadia': 0.002287778446718844, 'Drobeta': 0.0024733142410830514, 'Giurgiu': 0.0025679145830517637, 'Urziceni': 0.002941631831552872, 'Hirsova': 0.0023670113367385073, 'Eforie': 0.0019843342036553525, 'Vaslui': 0.0022493192849532377, 'Iasi': 0.0019155156769835669, 'Neamt': 0.0016543317370483238}\n",
      "\n",
      "betweeness_centrality\n",
      "{'Oradea': 0.0, 'Zerind': 0.04678362573099415, 'Sibiu': 0.631578947368421, 'Arad': 0.39766081871345027, 'Timisoara': 0.11695906432748537, 'Rimnicu Vilcea': 0.6549707602339181, 'Fagaras': 0.0, 'Lugoj': 0.0935672514619883, 'Bucharest': 1.0526315789473684, 'Pitesti': 0.935672514619883, 'Craiova': 0.4093567251461988, 'Mehadia': 0.1871345029239766, 'Drobeta': 0.29239766081871343, 'Giurgiu': 0.0, 'Urziceni': 0.8888888888888888, 'Hirsova': 0.21052631578947367, 'Eforie': 0.0, 'Vaslui': 0.39766081871345027, 'Iasi': 0.21052631578947367, 'Neamt': 0.0}\n",
      "\n",
      "eigenvector_centrality\n",
      "{'Oradea': 0.1991289710313794, 'Zerind': 0.15712534120929122, 'Sibiu': 0.39755782614496293, 'Arad': 0.2385535793446849, 'Timisoara': 0.10982201142282044, 'Rimnicu Vilcea': 0.4040977767641099, 'Fagaras': 0.26562805656252403, 'Lugoj': 0.06736738123863373, 'Bucharest': 0.34232582469873624, 'Pitesti': 0.38951353491489865, 'Craiova': 0.3385636911034298, 'Mehadia': 0.07784321511333174, 'Drobeta': 0.14948270922249066, 'Giurgiu': 0.12290597830130655, 'Urziceni': 0.1754386632126225, 'Hirsova': 0.07232603311311964, 'Eforie': 0.025974134216757788, 'Vaslui': 0.0739509211479735, 'Iasi': 0.03049428259139608, 'Neamt': 0.010954017041583743}\n",
      "\n",
      "katz_centrality\n",
      "{'Oradea': 0.2175460908476125, 'Zerind': 0.21545056207141045, 'Sibiu': 0.2620927650203226, 'Arad': 0.23904104467867282, 'Timisoara': 0.21495025975729856, 'Rimnicu Vilcea': 0.24444089015976475, 'Fagaras': 0.2219852359037097, 'Lugoj': 0.21254227647523904, 'Bucharest': 0.25984321136471245, 'Pitesti': 0.24423640730865, 'Craiova': 0.24016563439556737, 'Mehadia': 0.21255257742325792, 'Drobeta': 0.21506367460765655, 'Giurgiu': 0.19577621386911986, 'Urziceni': 0.23851898435401378, 'Hirsova': 0.21275059798648452, 'Eforie': 0.19106712414018745, 'Vaslui': 0.21467813189745164, 'Iasi': 0.21034250162287654, 'Neamt': 0.1908263439797378}\n",
      "\n"
     ]
    }
   ],
   "source": [
    "centralities = [degree_centrality, closeness_centrality, betweeness_centrality, eigenvector_centrality, katz_centrality]\n",
    "\n",
    "\n",
    "for alg in centralities:\n",
    "    print(alg.__name__)\n",
    "    print(alg(romania_graph))\n",
    "    print()\n",
    "\n"
   ]
  },
  {
   "cell_type": "code",
   "execution_count": 30,
   "metadata": {},
   "outputs": [
    {
     "name": "stdout",
     "output_type": "stream",
     "text": [
      "Top scores\n",
      "\n",
      "degree_centrality\n",
      "['Sibiu', 'Bucharest', 'Arad', 'Rimnicu Vilcea', 'Pitesti', 'Craiova', 'Urziceni', 'Oradea', 'Zerind', 'Timisoara', 'Fagaras', 'Lugoj', 'Mehadia', 'Drobeta', 'Hirsova', 'Vaslui', 'Iasi', 'Giurgiu', 'Eforie', 'Neamt']\n",
      "\n",
      "closeness_centrality\n",
      "['Pitesti', 'Rimnicu Vilcea', 'Bucharest', 'Sibiu', 'Urziceni', 'Craiova', 'Fagaras', 'Giurgiu', 'Arad', 'Drobeta', 'Hirsova', 'Oradea', 'Mehadia', 'Vaslui', 'Zerind', 'Timisoara', 'Lugoj', 'Eforie', 'Iasi', 'Neamt']\n",
      "\n",
      "betweeness_centrality\n",
      "['Bucharest', 'Pitesti', 'Urziceni', 'Rimnicu Vilcea', 'Sibiu', 'Craiova', 'Arad', 'Vaslui', 'Drobeta', 'Hirsova', 'Iasi', 'Mehadia', 'Timisoara', 'Lugoj', 'Zerind', 'Oradea', 'Fagaras', 'Giurgiu', 'Eforie', 'Neamt']\n",
      "\n",
      "eigenvector_centrality\n",
      "['Rimnicu Vilcea', 'Sibiu', 'Pitesti', 'Bucharest', 'Craiova', 'Fagaras', 'Arad', 'Oradea', 'Urziceni', 'Zerind', 'Drobeta', 'Giurgiu', 'Timisoara', 'Mehadia', 'Vaslui', 'Hirsova', 'Lugoj', 'Iasi', 'Eforie', 'Neamt']\n",
      "\n",
      "katz_centrality\n",
      "['Sibiu', 'Bucharest', 'Rimnicu Vilcea', 'Pitesti', 'Craiova', 'Arad', 'Urziceni', 'Fagaras', 'Oradea', 'Zerind', 'Drobeta', 'Timisoara', 'Vaslui', 'Hirsova', 'Mehadia', 'Lugoj', 'Iasi', 'Giurgiu', 'Eforie', 'Neamt']\n",
      "\n"
     ]
    }
   ],
   "source": [
    "print(\"Top scores\\n\")\n",
    "\n",
    "for alg in centralities:\n",
    "    centrality = alg(romania_graph)\n",
    "    print(alg.__name__)\n",
    "    print(sorted(centrality, key=lambda key:centrality[key], reverse=True))\n",
    "    print()"
   ]
  },
  {
   "cell_type": "code",
   "execution_count": null,
   "metadata": {},
   "outputs": [],
   "source": []
  }
 ],
 "metadata": {
  "kernelspec": {
   "display_name": "Python 3",
   "language": "python",
   "name": "python3"
  },
  "language_info": {
   "codemirror_mode": {
    "name": "ipython",
    "version": 3
   },
   "file_extension": ".py",
   "mimetype": "text/x-python",
   "name": "python",
   "nbconvert_exporter": "python",
   "pygments_lexer": "ipython3",
   "version": "3.10.6"
  },
  "orig_nbformat": 4
 },
 "nbformat": 4,
 "nbformat_minor": 2
}
