{
 "cells": [
  {
   "cell_type": "code",
   "execution_count": 7,
   "metadata": {},
   "outputs": [],
   "source": [
    "from knapsack import *\n",
    "from generate_item_list import generate_items\n",
    "\n",
    "import time\n",
    "import numpy as np\n",
    "import matplotlib.pyplot as plt\n",
    "\n",
    "%matplotlib inline"
   ]
  },
  {
   "cell_type": "code",
   "execution_count": 2,
   "metadata": {},
   "outputs": [],
   "source": [
    "def test_hill_climbing(problem, max_capacity, n_iters=15):\n",
    "    best_solution = None\n",
    "    best_solution_score = float(\"-inf\")\n",
    "\n",
    "    average_runtime = 0\n",
    "\n",
    "    for _ in range(n_iters):\n",
    "        start_time = time.perf_counter()\n",
    "\n",
    "        init_state = np.random.randint(2, size=len(problem[\"names\"])).tolist()\n",
    "\n",
    "        solution = hill_climbing(init_state, problem, max_capacity)\n",
    "\n",
    "        end_time = time.perf_counter()\n",
    "\n",
    "        average_runtime += end_time - start_time\n",
    "\n",
    "        solution_score = calculate_fitness(\n",
    "            solution, problem[\"prices\"], problem[\"weights\"], max_capacity\n",
    "        )\n",
    "        if solution_score > best_solution_score:\n",
    "            best_solution = solution\n",
    "            best_solution_score = solution_score\n",
    "\n",
    "    average_runtime /= n_iters\n",
    "\n",
    "    return average_runtime, best_solution, best_solution_score\n"
   ]
  },
  {
   "cell_type": "code",
   "execution_count": 3,
   "metadata": {},
   "outputs": [],
   "source": [
    "\n",
    "def test_simulated_annealing(problem, max_capacity, n_iters=15):\n",
    "    best_solution = None\n",
    "    best_solution_score = float(\"-inf\")\n",
    "\n",
    "    average_runtime = 0\n",
    "\n",
    "    for _ in range(n_iters):\n",
    "        start_time = time.perf_counter()\n",
    "\n",
    "        init_state = np.random.randint(2, size=len(problem[\"names\"])).tolist()\n",
    "\n",
    "        solution = simulated_annealing(init_state, problem, max_capacity)\n",
    "\n",
    "        end_time = time.perf_counter()\n",
    "\n",
    "        average_runtime += end_time - start_time\n",
    "\n",
    "        solution_score = calculate_fitness(\n",
    "            solution, problem[\"prices\"], problem[\"weights\"], max_capacity\n",
    "        )\n",
    "        if solution_score > best_solution_score:\n",
    "            best_solution = solution\n",
    "            best_solution_score = solution_score\n",
    "\n",
    "    average_runtime /= n_iters\n",
    "\n",
    "    return average_runtime, best_solution, best_solution_score\n"
   ]
  },
  {
   "cell_type": "code",
   "execution_count": 4,
   "metadata": {},
   "outputs": [],
   "source": [
    "\n",
    "def test_genetic_algorithm(problem, max_capacity, n_iters=15):\n",
    "    best_solution = None\n",
    "    best_solution_score = float(\"-inf\")\n",
    "\n",
    "    average_runtime = 0\n",
    "\n",
    "    for _ in range(n_iters):\n",
    "        start_time = time.perf_counter()\n",
    "\n",
    "        initial_population = generate_population(problem[\"counts\"], population_size=200)\n",
    "\n",
    "        solution = genetic_algorithm(problem, initial_population, max_capacity)\n",
    "\n",
    "        end_time = time.perf_counter()\n",
    "\n",
    "        average_runtime += end_time - start_time\n",
    "\n",
    "        solution_score = calculate_fitness(\n",
    "            solution, problem[\"prices\"], problem[\"weights\"], max_capacity\n",
    "        )\n",
    "        if solution_score > best_solution_score:\n",
    "            best_solution = solution\n",
    "            best_solution_score = solution_score\n",
    "\n",
    "    average_runtime /= n_iters\n",
    "\n",
    "    return average_runtime, best_solution, best_solution_score\n"
   ]
  },
  {
   "cell_type": "code",
   "execution_count": 46,
   "metadata": {},
   "outputs": [],
   "source": [
    "\n",
    "def test():\n",
    "    filenames = [\"10_items.txt\", \"15_items.txt\", \"20_items.txt\"]\n",
    "\n",
    "    generate_items(filenames[0], n_item_types=10)\n",
    "    generate_items(filenames[1], n_item_types=15)\n",
    "    generate_items(filenames[2], n_item_types=20)   \n",
    "\n",
    "    result = {} \n",
    "\n",
    "    for filename in filenames:\n",
    "        print(f\"Running test on {filename}\")\n",
    "\n",
    "        max_capacity, problem = load_knapsack_problem(filename)\n",
    "\n",
    "        hc_time, _, hc_score = test_hill_climbing(problem, max_capacity)\n",
    "        sa_time, _, sa_score = test_simulated_annealing(problem, max_capacity)\n",
    "        ga_time, _, ga_score = test_genetic_algorithm(problem, max_capacity)\n",
    "\n",
    "        result[int(filename.split(\"_\")[0])] = {\n",
    "            \"HC.\": [hc_time, hc_score],\n",
    "            \"SA.\": [sa_time, sa_score],\n",
    "            \"GA.\": [ga_time, ga_score]\n",
    "        }\n",
    "\n",
    "        print(\"\\n%20s    Time(s)   Value\" % \"Algorithm\")\n",
    "        print(\"=============================================\")\n",
    "        print(\"%20s    %.2f s   %.2f $\" % (\"Hill climbing\", hc_time, hc_score))\n",
    "        print(\"%20s    %.2f s   %.2f $\" % (\"Simulated annealing\", sa_time, sa_score))\n",
    "        print(\"%20s    %.2f s   %.2f $\" % (\"Genetic algorithm\", ga_time, ga_score))\n",
    "        print(\"\\n\")\n",
    "\n",
    "    return result\n"
   ]
  },
  {
   "cell_type": "code",
   "execution_count": 47,
   "metadata": {},
   "outputs": [
    {
     "name": "stdout",
     "output_type": "stream",
     "text": [
      "Running test on 10_items.txt\n",
      "\n",
      "           Algorithm    Time(s)   Value\n",
      "=============================================\n",
      "       Hill climbing    0.00 s   493.35 $\n",
      " Simulated annealing    0.16 s   619.09 $\n",
      "   Genetic algorithm    0.82 s   649.91 $\n",
      "\n",
      "\n",
      "Running test on 15_items.txt\n",
      "\n",
      "           Algorithm    Time(s)   Value\n",
      "=============================================\n",
      "       Hill climbing    0.01 s   765.46 $\n",
      " Simulated annealing    0.34 s   680.23 $\n",
      "   Genetic algorithm    0.93 s   800.23 $\n",
      "\n",
      "\n",
      "Running test on 20_items.txt\n",
      "\n",
      "           Algorithm    Time(s)   Value\n",
      "=============================================\n",
      "       Hill climbing    0.01 s   522.75 $\n",
      " Simulated annealing    0.42 s   626.03 $\n",
      "   Genetic algorithm    1.04 s   803.82 $\n",
      "\n",
      "\n"
     ]
    }
   ],
   "source": [
    "result = test()"
   ]
  },
  {
   "cell_type": "code",
   "execution_count": 56,
   "metadata": {},
   "outputs": [
    {
     "data": {
      "text/plain": [
       "<BarContainer object of 9 artists>"
      ]
     },
     "execution_count": 56,
     "metadata": {},
     "output_type": "execute_result"
    },
    {
     "data": {
      "image/png": "[encoded data removed]",
      "text/plain": [
       "<Figure size 1200x400 with 1 Axes>"
      ]
     },
     "metadata": {},
     "output_type": "display_data"
    }
   ],
   "source": [
    "\n",
    "x = []\n",
    "y_times = []\n",
    "y_score = []\n",
    "\n",
    "fig = plt.subplots(figsize =(12, 4))\n",
    "for n_items, res in result.items():\n",
    "    algs = map(lambda a: f\"{a}({n_items})\", res.keys())\n",
    "    times = list(map(lambda x: x[0], res.values()))\n",
    "    score = list(map(lambda x: x[1], res.values()))\n",
    "\n",
    "    x.extend(algs)\n",
    "    y_times.extend(times)\n",
    "    y_score.extend(score)\n",
    "\n",
    "plt.xlabel(f\"Algorithms\")\n",
    "plt.ylabel(\"Time (s)\")\n",
    "plt.bar(x, y_times, width = 0.4)\n"
   ]
  },
  {
   "cell_type": "code",
   "execution_count": 58,
   "metadata": {},
   "outputs": [
    {
     "data": {
      "text/plain": [
       "<BarContainer object of 9 artists>"
      ]
     },
     "execution_count": 58,
     "metadata": {},
     "output_type": "execute_result"
    },
    {
     "data": {
      "image/png": "[encoded data removed]",
      "text/plain": [
       "<Figure size 1200x400 with 1 Axes>"
      ]
     },
     "metadata": {},
     "output_type": "display_data"
    }
   ],
   "source": [
    "fig = plt.subplots(figsize =(12, 4))\n",
    "plt.xlabel(f\"Algorithms\")\n",
    "plt.ylabel(\"Value ($)\")\n",
    "plt.bar(x, y_score, width = 0.4)"
   ]
  },
  {
   "cell_type": "code",
   "execution_count": null,
   "metadata": {},
   "outputs": [],
   "source": []
  },
  {
   "cell_type": "code",
   "execution_count": null,
   "metadata": {},
   "outputs": [],
   "source": []
  }
 ],
 "metadata": {
  "kernelspec": {
   "display_name": "Python 3",
   "language": "python",
   "name": "python3"
  },
  "language_info": {
   "codemirror_mode": {
    "name": "ipython",
    "version": 3
   },
   "file_extension": ".py",
   "mimetype": "text/x-python",
   "name": "python",
   "nbconvert_exporter": "python",
   "pygments_lexer": "ipython3",
   "version": "3.10.6"
  },
  "orig_nbformat": 4
 },
 "nbformat": 4,
 "nbformat_minor": 2
}
