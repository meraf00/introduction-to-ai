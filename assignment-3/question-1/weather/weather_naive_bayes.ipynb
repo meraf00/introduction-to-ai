{
 "cells": [
  {
   "cell_type": "code",
   "execution_count": 220,
   "id": "4944b43b",
   "metadata": {},
   "outputs": [],
   "source": [
    "import math\n",
    "\n",
    "import random\n",
    "\n",
    "from collections import defaultdict\n",
    "\n",
    "import matplotlib.pyplot as plt\n",
    "\n",
    "%matplotlib inline"
   ]
  },
  {
   "cell_type": "markdown",
   "id": "25c88d40",
   "metadata": {},
   "source": [
    "### Data Preparation"
   ]
  },
  {
   "cell_type": "code",
   "execution_count": 235,
   "id": "8eb4a3ad",
   "metadata": {},
   "outputs": [],
   "source": [
    "def read_csv(path, train_test_ratio=.8):\n",
    "    \n",
    "    with open(path) as f:\n",
    "        lines = f.readlines()[1:]\n",
    "        \n",
    "    random.shuffle(lines)\n",
    "    \n",
    "    x, y = [], []    \n",
    "        \n",
    "    for line in lines:                        \n",
    "        if 'NA' in line:\n",
    "            continue\n",
    "        \n",
    "        line = line.split(',')\n",
    "        \n",
    "        features = line[:4]\n",
    "        features[1] = float(features[1])\n",
    "        features[2] = float(features[2])\n",
    "        features[3] = float(features[3])                \n",
    "        \n",
    "        line[4] = 1 if line[4].strip() == '\"TRUE\"' else 0\n",
    "        \n",
    "        x.append(features)\n",
    "        y.append(line[4])\n",
    "    \n",
    "    train_set_size = int(len(x) * train_test_ratio)           \n",
    "    \n",
    "    train_x = x[:train_set_size]\n",
    "    train_y = y[:train_set_size]\n",
    "    test_x = x[train_set_size:]\n",
    "    test_y = y[train_set_size:]        \n",
    "    \n",
    "        \n",
    "    return train_x, train_y, test_x, test_y"
   ]
  },
  {
   "cell_type": "code",
   "execution_count": 236,
   "id": "738671e6",
   "metadata": {},
   "outputs": [],
   "source": [
    "x_train, y_train, x_test, y_test = read_csv('dataset/seattleWeather_1948-2017.csv')"
   ]
  },
  {
   "cell_type": "code",
   "execution_count": 237,
   "id": "e089ef75",
   "metadata": {},
   "outputs": [
    {
     "data": {
      "text/plain": [
       "([0.0, 4.0, 0.0], [3.77, 103.0, 71.0])"
      ]
     },
     "execution_count": 237,
     "metadata": {},
     "output_type": "execute_result"
    }
   ],
   "source": [
    "# inspect data for normalization\n",
    "\n",
    "mins = [float('inf')] * 3\n",
    "maxs = [float('-inf')] * 3\n",
    "\n",
    "for line in train_x:    \n",
    "    for i, value in enumerate(line[1:]):\n",
    "        mins[i] = min(mins[i], value)\n",
    "        maxs[i] = max(maxs[i], value)\n",
    "\n",
    "        \n",
    "mins, maxs"
   ]
  },
  {
   "cell_type": "code",
   "execution_count": 250,
   "id": "5fc4ea29",
   "metadata": {},
   "outputs": [],
   "source": [
    "# normalize input\n",
    "\n",
    "def prepare(x):\n",
    "    x = x[1:]\n",
    "    \n",
    "#     for i in range(len(x)):\n",
    "#         x[i] = (x[i] - mins[i]) / (maxs[i] - mins[i])\n",
    "    \n",
    "    return x"
   ]
  },
  {
   "cell_type": "code",
   "execution_count": 251,
   "id": "f871ca0e",
   "metadata": {},
   "outputs": [],
   "source": [
    "x_train_normalized = []\n",
    "\n",
    "for x in train_x:\n",
    "    x_train_normalized.append(prepare(x))\n"
   ]
  },
  {
   "cell_type": "markdown",
   "id": "c5a34c9e",
   "metadata": {},
   "source": [
    "### Naive Bayes"
   ]
  },
  {
   "cell_type": "code",
   "execution_count": 252,
   "id": "d9eb78d7",
   "metadata": {},
   "outputs": [
    {
     "data": {
      "text/plain": [
       "{0: 11722, 1: 8716}"
      ]
     },
     "execution_count": 252,
     "metadata": {},
     "output_type": "execute_result"
    }
   ],
   "source": [
    "# count frequecy of each number in the dataset\n",
    "\n",
    "class_frequency = {0: 0, 1: 0}\n",
    "\n",
    "for label in y_train:\n",
    "    class_frequency[label] += 1\n",
    "\n",
    "class_frequency"
   ]
  },
  {
   "cell_type": "code",
   "execution_count": 253,
   "id": "a969e86f",
   "metadata": {},
   "outputs": [
    {
     "data": {
      "text/plain": [
       "{0: 0.5735394852725315, 1: 0.42646051472746843}"
      ]
     },
     "execution_count": 253,
     "metadata": {},
     "output_type": "execute_result"
    }
   ],
   "source": [
    "# calculate prior\n",
    "\n",
    "prior = {}\n",
    "\n",
    "dataset_size = len(y_train)\n",
    "\n",
    "for class_ in range(2):\n",
    "    prior[class_] = class_frequency[class_] / dataset_size\n",
    "\n",
    "prior"
   ]
  },
  {
   "cell_type": "code",
   "execution_count": 254,
   "id": "a1cf31d7",
   "metadata": {},
   "outputs": [
    {
     "data": {
      "text/plain": [
       "defaultdict(<function __main__.<lambda>()>,\n",
       "            {1: [0.04476367550640909, 25.390742734122714, 19.003278207260983],\n",
       "             0: [0.059696643507191234, 34.21019669243566, 25.534396712007045]})"
      ]
     },
     "execution_count": 254,
     "metadata": {},
     "output_type": "execute_result"
    }
   ],
   "source": [
    "# calculate mean and variance for each feature\n",
    "\n",
    "n_features = len(x_train_normalized[0])\n",
    "\n",
    "mean = defaultdict(lambda : [0] * n_features)\n",
    "\n",
    "for sample, label in zip(x_train_normalized, y_train):\n",
    "    for idx, feature in enumerate(sample):\n",
    "        mean[label][idx] += feature\n",
    "        \n",
    "for value in mean.values():\n",
    "    for idx in range(len(value)):\n",
    "        value[idx] /= dataset_size\n",
    "\n",
    "mean"
   ]
  },
  {
   "cell_type": "code",
   "execution_count": 255,
   "id": "c2451a7f",
   "metadata": {},
   "outputs": [
    {
     "data": {
      "text/plain": [
       "defaultdict(<function __main__.<lambda>()>,\n",
       "            {1: [0.024435435047548693, 565.7207896297342, 312.2166759398423],\n",
       "             0: [0.03354310616114135, 465.6540190718237, 252.27214590873672]})"
      ]
     },
     "execution_count": 255,
     "metadata": {},
     "output_type": "execute_result"
    }
   ],
   "source": [
    "# varience\n",
    "\n",
    "varience = defaultdict(lambda : [0] * n_features)\n",
    "\n",
    "for sample, label in zip(x_train_normalized, y_train):\n",
    "    for idx, feature in enumerate(sample):\n",
    "        varience[label][idx] += (feature - mean[label][idx]) ** 2\n",
    "\n",
    "        \n",
    "for value in varience.values():\n",
    "    for idx in range(len(value)):\n",
    "        value[idx] /= dataset_size  \n",
    "\n",
    "varience"
   ]
  },
  {
   "cell_type": "code",
   "execution_count": 256,
   "id": "9234dea0",
   "metadata": {},
   "outputs": [],
   "source": [
    "def gausian_probability(xs, mean, var, smoothing):\n",
    "    probability = []\n",
    "        \n",
    "    for idx, x in enumerate(xs):\n",
    "        m = mean[idx]\n",
    "        v = var[idx] + smoothing\n",
    "        \n",
    "        prob = 1 / math.sqrt(2 * math.pi * v) * math.exp(-(x - m) ** 2 / (2 * v))            \n",
    "        \n",
    "        probability.append(math.log(prob))\n",
    "    \n",
    "    return sum(probability)\n",
    "\n",
    "\n",
    "def argmax(values):\n",
    "    max_value = float('-inf')\n",
    "    max_index = 0\n",
    "\n",
    "    for idx, value in enumerate(values):\n",
    "        if value > max_value:\n",
    "            max_index = idx\n",
    "            max_value = value\n",
    "\n",
    "    return max_index"
   ]
  },
  {
   "cell_type": "code",
   "execution_count": 257,
   "id": "adb16812",
   "metadata": {},
   "outputs": [],
   "source": [
    "def predict_naive_bayes(sample, smoothing):    \n",
    "    gaussians_likelihood = [0] * 2\n",
    "    \n",
    "    for cls in range(2):\n",
    "        m = mean[cls]\n",
    "        var = varience[cls]\n",
    "        \n",
    "        probability = gausian_probability(sample, m, var, smoothing)               \n",
    "        \n",
    "        probability += math.log(prior[cls])\n",
    "        \n",
    "        gaussians_likelihood[cls] = probability        \n",
    "    \n",
    "    return argmax(gaussians_likelihood)\n",
    "        "
   ]
  },
  {
   "cell_type": "code",
   "execution_count": 258,
   "id": "72960ec3",
   "metadata": {},
   "outputs": [],
   "source": [
    "def test(x_test, y_test, smoothing):    \n",
    "    confussion_matrix = [[0] * 2 for _ in range(2)]\n",
    "    net_accuracy = 0\n",
    "\n",
    "    for i in range(len(x_test)):\n",
    "        prediction = predict_naive_bayes(x_test[i], smoothing)\n",
    "\n",
    "        confussion_matrix[prediction][y_test[i]] += 1\n",
    "\n",
    "        if prediction == y_test[i]:\n",
    "            net_accuracy += 1\n",
    "\n",
    "    return confussion_matrix, net_accuracy / len(x_test)"
   ]
  },
  {
   "cell_type": "code",
   "execution_count": 273,
   "id": "a6d51e63",
   "metadata": {},
   "outputs": [],
   "source": [
    "# test\n",
    "\n",
    "smoothings = [0.01, 0.1, 0.5, 1.0, 10, 100]\n",
    "\n",
    "x_test_normalized = list(map(prepare, x_test))\n",
    "\n",
    "scores = []\n",
    "\n",
    "for smoothing in smoothings:\n",
    "    cm, acc = test(x_test_normalized, y_test, smoothing)\n",
    "    \n",
    "    scores.append((cm, acc))\n"
   ]
  },
  {
   "cell_type": "code",
   "execution_count": 274,
   "id": "3cabf85b",
   "metadata": {},
   "outputs": [
    {
     "data": {
      "image/png": "[encoded data removed]",
      "text/plain": [
       "<Figure size 640x480 with 6 Axes>"
      ]
     },
     "metadata": {},
     "output_type": "display_data"
    }
   ],
   "source": [
    "# draw confussion matrix\n",
    "\n",
    "fig, axs = plt.subplots(nrows=1, ncols=len(smoothings))\n",
    "    \n",
    "for i, ax in enumerate(axs.flat):\n",
    "    \n",
    "    ax.set_label(smoothings[i])\n",
    "\n",
    "    ax.imshow(scores[i][0])\n",
    "    "
   ]
  },
  {
   "cell_type": "code",
   "execution_count": 275,
   "id": "d7caaa55",
   "metadata": {},
   "outputs": [
    {
     "name": "stdout",
     "output_type": "stream",
     "text": [
      "Smoothing: 0.01 \tAccuracy: 0.5718199608610568\n",
      "Smoothing: 0.1 \tAccuracy: 0.5726027397260274\n",
      "Smoothing: 0.5 \tAccuracy: 0.5726027397260274\n",
      "Smoothing: 1.0 \tAccuracy: 0.5727984344422701\n",
      "Smoothing: 10 \tAccuracy: 0.5727984344422701\n",
      "Smoothing: 100 \tAccuracy: 0.5727984344422701\n"
     ]
    }
   ],
   "source": [
    "# Accuracy\n",
    "\n",
    "for i in range(len(scores)):\n",
    "    print(f'Smoothing: {smoothings[i]} \\tAccuracy: {scores[i][1]}')"
   ]
  },
  {
   "cell_type": "code",
   "execution_count": null,
   "id": "04f79e42",
   "metadata": {},
   "outputs": [],
   "source": []
  },
  {
   "cell_type": "code",
   "execution_count": null,
   "id": "55275ede",
   "metadata": {},
   "outputs": [],
   "source": []
  }
 ],
 "metadata": {
  "kernelspec": {
   "display_name": "Python 3 (ipykernel)",
   "language": "python",
   "name": "python3"
  },
  "language_info": {
   "codemirror_mode": {
    "name": "ipython",
    "version": 3
   },
   "file_extension": ".py",
   "mimetype": "text/x-python",
   "name": "python",
   "nbconvert_exporter": "python",
   "pygments_lexer": "ipython3",
   "version": "3.10.6"
  }
 },
 "nbformat": 4,
 "nbformat_minor": 5
}
