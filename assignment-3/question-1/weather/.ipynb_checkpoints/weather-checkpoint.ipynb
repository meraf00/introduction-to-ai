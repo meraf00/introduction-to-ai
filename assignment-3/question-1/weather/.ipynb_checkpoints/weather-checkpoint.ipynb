{
 "cells": [
  {
   "cell_type": "code",
   "execution_count": 1,
   "id": "647a3620",
   "metadata": {},
   "outputs": [],
   "source": [
    "import math\n",
    "\n",
    "import matplotlib.pyplot as plt\n",
    "\n",
    "%matplotlib inline"
   ]
  },
  {
   "cell_type": "markdown",
   "id": "d1359ed4",
   "metadata": {},
   "source": [
    "### Data preparation"
   ]
  },
  {
   "cell_type": "code",
   "execution_count": 5,
   "id": "ce646ac2",
   "metadata": {},
   "outputs": [],
   "source": [
    "def read_csv(path, train_test_ratio=0.8):\n",
    "    \n",
    "    with open(path) as f:\n",
    "        lines = f.readlines()\n",
    "    \n",
    "    n_lines = len(lines)\n",
    "    \n",
    "    train_set_size = int(n_lines * train_test_ratio)    \n",
    "    \n",
    "    train_x, train_y = [], []\n",
    "    test_x, test_y = [], []\n",
    "        \n",
    "    for line in lines[1:train_set_size]:        \n",
    "        line = line.split(',')\n",
    "        x = line[:4]\n",
    "        x[1] = float(x[1])\n",
    "        x[2] = float(x[2])\n",
    "        x[3] = float(x[3])\n",
    "        \n",
    "        line[4] = 1 if line[4] == 'TRUE' else 0\n",
    "        \n",
    "        train_x.append(x)\n",
    "        train_y.append(line[4])\n",
    "    \n",
    "    for line in lines[train_set_size:]:\n",
    "        line = line.split(',')\n",
    "        x = line[:4]\n",
    "        x[1] = float(x[1])\n",
    "        x[2] = float(x[2])\n",
    "        x[3] = float(x[3])\n",
    "        \n",
    "        line[4] = 1 if line[4] == 'TRUE' else 0\n",
    "        \n",
    "        train_x.append(x)\n",
    "        train_y.append(line[4])\n",
    "        \n",
    "    return train_x, train_y, test_x, test_y"
   ]
  },
  {
   "cell_type": "code",
   "execution_count": 6,
   "id": "70adaa6f",
   "metadata": {},
   "outputs": [
    {
     "ename": "ValueError",
     "evalue": "could not convert string to float: '\"NA\"'",
     "output_type": "error",
     "traceback": [
      "\u001b[1;31m---------------------------------------------------------------------------\u001b[0m",
      "\u001b[1;31mValueError\u001b[0m                                Traceback (most recent call last)",
      "Cell \u001b[1;32mIn[6], line 1\u001b[0m\n\u001b[1;32m----> 1\u001b[0m train_x, train_y, test_x, test_y \u001b[38;5;241m=\u001b[39m \u001b[43mread_csv\u001b[49m\u001b[43m(\u001b[49m\u001b[38;5;124;43m'\u001b[39;49m\u001b[38;5;124;43mdataset/seattleWeather_1948-2017.csv\u001b[39;49m\u001b[38;5;124;43m'\u001b[39;49m\u001b[43m)\u001b[49m\n",
      "Cell \u001b[1;32mIn[5], line 16\u001b[0m, in \u001b[0;36mread_csv\u001b[1;34m(path, train_test_ratio)\u001b[0m\n\u001b[0;32m     14\u001b[0m line \u001b[38;5;241m=\u001b[39m line\u001b[38;5;241m.\u001b[39msplit(\u001b[38;5;124m'\u001b[39m\u001b[38;5;124m,\u001b[39m\u001b[38;5;124m'\u001b[39m)\n\u001b[0;32m     15\u001b[0m x \u001b[38;5;241m=\u001b[39m line[:\u001b[38;5;241m4\u001b[39m]\n\u001b[1;32m---> 16\u001b[0m x[\u001b[38;5;241m1\u001b[39m] \u001b[38;5;241m=\u001b[39m \u001b[38;5;28;43mfloat\u001b[39;49m\u001b[43m(\u001b[49m\u001b[43mx\u001b[49m\u001b[43m[\u001b[49m\u001b[38;5;241;43m1\u001b[39;49m\u001b[43m]\u001b[49m\u001b[43m)\u001b[49m\n\u001b[0;32m     17\u001b[0m x[\u001b[38;5;241m2\u001b[39m] \u001b[38;5;241m=\u001b[39m \u001b[38;5;28mfloat\u001b[39m(x[\u001b[38;5;241m2\u001b[39m])\n\u001b[0;32m     18\u001b[0m x[\u001b[38;5;241m3\u001b[39m] \u001b[38;5;241m=\u001b[39m \u001b[38;5;28mfloat\u001b[39m(x[\u001b[38;5;241m3\u001b[39m])\n",
      "\u001b[1;31mValueError\u001b[0m: could not convert string to float: '\"NA\"'"
     ]
    }
   ],
   "source": [
    "train_x, train_y, test_x, test_y = read_csv('dataset/seattleWeather_1948-2017.csv')"
   ]
  },
  {
   "cell_type": "code",
   "execution_count": null,
   "id": "fa27c133",
   "metadata": {},
   "outputs": [],
   "source": []
  }
 ],
 "metadata": {
  "kernelspec": {
   "display_name": "Python 3 (ipykernel)",
   "language": "python",
   "name": "python3"
  },
  "language_info": {
   "codemirror_mode": {
    "name": "ipython",
    "version": 3
   },
   "file_extension": ".py",
   "mimetype": "text/x-python",
   "name": "python",
   "nbconvert_exporter": "python",
   "pygments_lexer": "ipython3",
   "version": "3.10.6"
  }
 },
 "nbformat": 4,
 "nbformat_minor": 5
}
