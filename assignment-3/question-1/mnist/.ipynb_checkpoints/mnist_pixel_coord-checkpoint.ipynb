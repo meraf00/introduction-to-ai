{
 "cells": [
  {
   "cell_type": "code",
   "execution_count": 1,
   "metadata": {
    "id": "TRrtW63GQ_69"
   },
   "outputs": [],
   "source": [
    "# %pip install python-mnist\n",
    "# %pip install matplotlib\n",
    "\n",
    "import os\n",
    "import math\n",
    "import random\n",
    "from mnist import MNIST\n",
    "import matplotlib.pyplot as plt\n",
    "import matplotlib.patches as mpatches\n",
    "\n",
    "import pickle\n",
    "import time\n",
    "\n",
    "%matplotlib inline"
   ]
  },
  {
   "cell_type": "markdown",
   "metadata": {
    "id": "WqQUU1P1Q_7B"
   },
   "source": [
    "### Data preparation"
   ]
  },
  {
   "cell_type": "code",
   "execution_count": 2,
   "metadata": {
    "id": "BMeHcv_fQ_7F"
   },
   "outputs": [],
   "source": [
    "mndata = MNIST('dataset')\n",
    "\n",
    "x_train, y_train = mndata.load_training()"
   ]
  },
  {
   "cell_type": "markdown",
   "metadata": {},
   "source": [
    "### Analysis"
   ]
  },
  {
   "cell_type": "code",
   "execution_count": 3,
   "metadata": {},
   "outputs": [],
   "source": [
    "overlayed = {i: [0] * 784 for i in range(10)}\n",
    "\n",
    "for image, cls_ in zip(x_train, y_train):\n",
    "    for idx, color in enumerate(image):        \n",
    "        overlayed[cls_][idx] += (color/255)\n",
    "\n",
    "# overlayed"
   ]
  },
  {
   "cell_type": "code",
   "execution_count": 4,
   "metadata": {},
   "outputs": [],
   "source": [
    "def flatten(array):\n",
    "    flat = []\n",
    "\n",
    "    for item in array:\n",
    "        try:\n",
    "            iter(item)\n",
    "            flat.extend(flatten(item))\n",
    "        except:\n",
    "            flat.append(item)\n",
    "\n",
    "    return flat\n",
    "\n",
    "def reshape(array, rows, cols):\n",
    "    flat_array = flatten(array)\n",
    "\n",
    "    if rows * cols != len(flat_array):\n",
    "        raise Exception(f\"Can't reshape array to ({rows}, {cols})\")\n",
    "\n",
    "    reshaped = [[0] * cols for _ in range(rows)]    \n",
    "\n",
    "    for row in range(rows):\n",
    "        for col in range(cols):\n",
    "            reshaped[row][col] = flat_array[row * cols + col]\n",
    "\n",
    "    return reshaped\n"
   ]
  },
  {
   "cell_type": "code",
   "execution_count": 5,
   "metadata": {},
   "outputs": [
    {
     "data": {
      "text/plain": [
       "<matplotlib.image.AxesImage at 0x267c698b3d0>"
      ]
     },
     "execution_count": 5,
     "metadata": {},
     "output_type": "execute_result"
    },
    {
     "data": {
      "image/png": "[encoded data removed]",
      "text/plain": [
       "<Figure size 640x480 with 1 Axes>"
      ]
     },
     "metadata": {},
     "output_type": "display_data"
    }
   ],
   "source": [
    "plt.imshow(reshape(overlayed[5], 28, 28))"
   ]
  },
  {
   "cell_type": "code",
   "execution_count": 6,
   "metadata": {
    "id": "7SW47aUqQ_7F"
   },
   "outputs": [],
   "source": [
    "def prepare(image):\n",
    "    image = reshape(image, 28, 28)\n",
    "\n",
    "    output = []\n",
    "    \n",
    "    # major diagonal\n",
    "    for i in range(28):\n",
    "        output.append(image[i][i] / 255)\n",
    "    \n",
    "    # minor diagonal\n",
    "    for i in range(28):\n",
    "        output.append(image[27 - i][i] / 255)\n",
    "    \n",
    "    # center horizontal ( 3 pixels)\n",
    "    for j in range(13, 16):\n",
    "        for i in range(28):        \n",
    "            output.append(image[j][i] / 255)\n",
    "\n",
    "    # center vertical    ( 3 pixels) \n",
    "    for j in range(13, 16):\n",
    "        for i in range(28):        \n",
    "            output.append(image[i][j] / 255)\n",
    "    \n",
    "    # bias\n",
    "    output.append(1)\n",
    "\n",
    "\n",
    "    return output    "
   ]
  },
  {
   "cell_type": "code",
   "execution_count": 7,
   "metadata": {},
   "outputs": [],
   "source": [
    "# Normalize input\n",
    "x_train_normalized = []\n",
    "\n",
    "for image in x_train:\n",
    "    x_train_normalized.append(prepare(image))"
   ]
  },
  {
   "cell_type": "markdown",
   "metadata": {
    "id": "dtQT26EwQ_7G"
   },
   "source": [
    "### Logistic Regression"
   ]
  },
  {
   "cell_type": "code",
   "execution_count": 8,
   "metadata": {
    "id": "sGn5-guTQ_7I"
   },
   "outputs": [],
   "source": [
    "def sigmoid_scalar(x):\n",
    "    # to avoid overflow\n",
    "    if x < 0:\n",
    "        sigmoid = math.exp(x) / (1 + math.exp(x))\n",
    "    else:\n",
    "        sigmoid = 1 / (1 + math.exp(-x))\n",
    "\n",
    "    # to handle machine precision errors\n",
    "    sigmoid = max(0.0001, sigmoid)\n",
    "    sigmoid = min(0.9999, sigmoid)\n",
    "\n",
    "    return sigmoid"
   ]
  },
  {
   "cell_type": "code",
   "execution_count": 9,
   "metadata": {
    "id": "T9f7v-keQ_7I"
   },
   "outputs": [],
   "source": [
    "def argmax(values):\n",
    "    max_value = float('-inf')\n",
    "    max_index = 0\n",
    "\n",
    "    for idx, value in enumerate(values):\n",
    "        if value > max_value:\n",
    "            max_index = idx\n",
    "            max_value = value\n",
    "\n",
    "    return max_index\n"
   ]
  },
  {
   "cell_type": "code",
   "execution_count": 10,
   "metadata": {
    "id": "Q26D61H2Q_7J"
   },
   "outputs": [],
   "source": [
    "def predict(sample_x, weights):\n",
    "    # calculate z = sum(w * x + b)\n",
    "    # here bias (b) is also included in weights\n",
    "    z = 0\n",
    "    for x, w in zip(sample_x, weights):\n",
    "        z += w * x\n",
    "\n",
    "    # sigmoid(z)\n",
    "    return sigmoid_scalar(z)"
   ]
  },
  {
   "cell_type": "code",
   "execution_count": 11,
   "metadata": {
    "id": "wH64cwHIQ_7L"
   },
   "outputs": [],
   "source": [
    "def cross_entropy_loss(predicted_value, actual_value):\n",
    "    y = actual_value\n",
    "    y_pred = predicted_value    \n",
    "\n",
    "    if y == 1:        \n",
    "        return -math.log(y_pred)\n",
    "\n",
    "    else:        \n",
    "        return -math.log(1 - y_pred)"
   ]
  },
  {
   "cell_type": "code",
   "execution_count": 12,
   "metadata": {
    "id": "wGX5WiTGQ_7L"
   },
   "outputs": [],
   "source": [
    "def gradient_decent(X, label, weights=None, learning_rate=0.1):\n",
    "    n_features = len(X[0])\n",
    "\n",
    "    # initialize weight with random values (equal length to x's features)\n",
    "    if weights == None:\n",
    "        weights = [random.random() for _ in range(n_features)]\n",
    "\n",
    "    loss = 0\n",
    "\n",
    "    for x, y in zip(X, label):\n",
    "        y_pred = predict(x, weights)\n",
    "        loss += cross_entropy_loss(y_pred, y)\n",
    "\n",
    "        # dw = (y_pred - y) * x\n",
    "        # weight = weight - learning_rate * dw\n",
    "        err = y_pred - y\n",
    "        for i in range(n_features):\n",
    "            dw_i = err * x[i]\n",
    "            weights[i] -= learning_rate * dw_i\n",
    "\n",
    "    return weights, loss / len(X)"
   ]
  },
  {
   "cell_type": "code",
   "execution_count": 13,
   "metadata": {
    "id": "sndBLTHJQ_7M"
   },
   "outputs": [],
   "source": [
    "def train_binary_class(x_train, y_train, learning_rate, epoch, verbose=False):\n",
    "    weights = None\n",
    "\n",
    "    # for graphing\n",
    "    history = []\n",
    "\n",
    "    for i in range(epoch):\n",
    "        weights, loss = gradient_decent(x_train, y_train, weights, learning_rate)\n",
    "\n",
    "        history.append(loss)\n",
    "\n",
    "        if verbose:\n",
    "            print(f\"Epoch [{i}]\\n\\t- Cross entropy loss: {loss}\\n\")\n",
    "\n",
    "    return weights, history"
   ]
  },
  {
   "cell_type": "code",
   "execution_count": 14,
   "metadata": {
    "id": "qvqRd3ejQ_7N"
   },
   "outputs": [],
   "source": [
    "def train_multiclass(x_train, y_train, learning_rate, epoch, verbose=False):\n",
    "    # identify unique classes\n",
    "    classes = range(0, 10)\n",
    "\n",
    "    # for each class create separate labels suitable for binary classification\n",
    "    labels = [[] for _ in classes]\n",
    "\n",
    "    for class_ in classes:\n",
    "        for label in y_train:            \n",
    "            if label == class_:\n",
    "                labels[class_].append(1)\n",
    "\n",
    "            else:\n",
    "                labels[class_].append(0)\n",
    "    \n",
    "    # now that we have separate labels for each class\n",
    "    # lets train binary classifier for each class\n",
    "    # (each classifier will identify whether sample x is member of class or not)\n",
    "\n",
    "    # we have 10 classes so we need 10 binary classifiers\n",
    "    classifiers = [None] * 10\n",
    "    histories = [None] * 10\n",
    "\n",
    "    for cls_, label in enumerate(labels):\n",
    "        if verbose:\n",
    "            print(f'Training class [{cls_}]')\n",
    "\n",
    "        weights, history = train_binary_class(x_train, label, learning_rate, epoch)        \n",
    "\n",
    "        classifiers[cls_] = weights\n",
    "        histories[cls_] = history\n",
    "\n",
    "        if verbose:\n",
    "            print('---------------------------------------------------------------------')\n",
    "    \n",
    "\n",
    "    return classifiers, histories"
   ]
  },
  {
   "cell_type": "code",
   "execution_count": 15,
   "metadata": {
    "id": "tgprAe-oQ_7P"
   },
   "outputs": [],
   "source": [
    "def predict_class(sample_x, model):\n",
    "    class_probabilities = []\n",
    "    \n",
    "    for weights in model:\n",
    "        class_probability = predict(sample_x, weights)\n",
    "        class_probabilities.append(class_probability)\n",
    "    \n",
    "    return argmax(class_probabilities)"
   ]
  },
  {
   "cell_type": "code",
   "execution_count": 16,
   "metadata": {
    "id": "cCekxVigjWmy"
   },
   "outputs": [],
   "source": [
    "# sum([predict_class(x_train_normalized[i], model) == y_train[i] for i in range(60000)])\n",
    "\n",
    "def confusion_matrix(test_x, label, model):    \n",
    "\n",
    "    grid = [[0] * 10 for _ in range(10)]\n",
    "    \n",
    "    net_accuracy = 0    \n",
    "\n",
    "    for i in range(len(test_x)):\n",
    "        prediction = predict_class(test_x[i], model)\n",
    "                \n",
    "        actual = label[i]\n",
    "\n",
    "        grid[prediction][actual] += 1\n",
    "\n",
    "        if prediction == label[i]:\n",
    "            net_accuracy += 1              \n",
    "\n",
    "    return grid, net_accuracy / len(test_x)\n"
   ]
  },
  {
   "cell_type": "markdown",
   "metadata": {
    "id": "ztPTVh2wQ_7Q"
   },
   "source": [
    "### Training"
   ]
  },
  {
   "cell_type": "code",
   "execution_count": 17,
   "metadata": {
    "colab": {
     "base_uri": "https://localhost:8080/"
    },
    "id": "TIsesQrSQ_7Q",
    "outputId": "f2c4e808-c11a-48d2-c0a2-d1c4f6e279e6"
   },
   "outputs": [
    {
     "name": "stdout",
     "output_type": "stream",
     "text": [
      "Learning rate: 0.0001\n",
      "Training class [0]\n",
      "---------------------------------------------------------------------\n",
      "Training class [1]\n",
      "---------------------------------------------------------------------\n",
      "Training class [2]\n",
      "---------------------------------------------------------------------\n",
      "Training class [3]\n",
      "---------------------------------------------------------------------\n",
      "Training class [4]\n",
      "---------------------------------------------------------------------\n",
      "Training class [5]\n",
      "---------------------------------------------------------------------\n",
      "Training class [6]\n",
      "---------------------------------------------------------------------\n",
      "Training class [7]\n",
      "---------------------------------------------------------------------\n",
      "Training class [8]\n",
      "---------------------------------------------------------------------\n",
      "Training class [9]\n",
      "---------------------------------------------------------------------\n",
      "Learning rate: 0.001\n",
      "Training class [0]\n",
      "---------------------------------------------------------------------\n",
      "Training class [1]\n",
      "---------------------------------------------------------------------\n",
      "Training class [2]\n",
      "---------------------------------------------------------------------\n",
      "Training class [3]\n",
      "---------------------------------------------------------------------\n",
      "Training class [4]\n",
      "---------------------------------------------------------------------\n",
      "Training class [5]\n",
      "---------------------------------------------------------------------\n",
      "Training class [6]\n",
      "---------------------------------------------------------------------\n",
      "Training class [7]\n",
      "---------------------------------------------------------------------\n",
      "Training class [8]\n",
      "---------------------------------------------------------------------\n",
      "Training class [9]\n",
      "---------------------------------------------------------------------\n",
      "Learning rate: 0.01\n",
      "Training class [0]\n",
      "---------------------------------------------------------------------\n",
      "Training class [1]\n",
      "---------------------------------------------------------------------\n",
      "Training class [2]\n",
      "---------------------------------------------------------------------\n",
      "Training class [3]\n",
      "---------------------------------------------------------------------\n",
      "Training class [4]\n",
      "---------------------------------------------------------------------\n",
      "Training class [5]\n",
      "---------------------------------------------------------------------\n",
      "Training class [6]\n",
      "---------------------------------------------------------------------\n",
      "Training class [7]\n",
      "---------------------------------------------------------------------\n",
      "Training class [8]\n",
      "---------------------------------------------------------------------\n",
      "Training class [9]\n",
      "---------------------------------------------------------------------\n",
      "Learning rate: 0.1\n",
      "Training class [0]\n",
      "---------------------------------------------------------------------\n",
      "Training class [1]\n",
      "---------------------------------------------------------------------\n",
      "Training class [2]\n",
      "---------------------------------------------------------------------\n",
      "Training class [3]\n",
      "---------------------------------------------------------------------\n",
      "Training class [4]\n",
      "---------------------------------------------------------------------\n",
      "Training class [5]\n",
      "---------------------------------------------------------------------\n",
      "Training class [6]\n",
      "---------------------------------------------------------------------\n",
      "Training class [7]\n",
      "---------------------------------------------------------------------\n",
      "Training class [8]\n",
      "---------------------------------------------------------------------\n",
      "Training class [9]\n",
      "---------------------------------------------------------------------\n",
      "Learning rate: 1.0\n",
      "Training class [0]\n",
      "---------------------------------------------------------------------\n",
      "Training class [1]\n",
      "---------------------------------------------------------------------\n",
      "Training class [2]\n",
      "---------------------------------------------------------------------\n",
      "Training class [3]\n",
      "---------------------------------------------------------------------\n",
      "Training class [4]\n",
      "---------------------------------------------------------------------\n",
      "Training class [5]\n",
      "---------------------------------------------------------------------\n",
      "Training class [6]\n",
      "---------------------------------------------------------------------\n",
      "Training class [7]\n",
      "---------------------------------------------------------------------\n",
      "Training class [8]\n",
      "---------------------------------------------------------------------\n",
      "Training class [9]\n",
      "---------------------------------------------------------------------\n",
      "Learning rate: 1.5\n",
      "Training class [0]\n",
      "---------------------------------------------------------------------\n",
      "Training class [1]\n",
      "---------------------------------------------------------------------\n",
      "Training class [2]\n",
      "---------------------------------------------------------------------\n",
      "Training class [3]\n",
      "---------------------------------------------------------------------\n",
      "Training class [4]\n",
      "---------------------------------------------------------------------\n",
      "Training class [5]\n",
      "---------------------------------------------------------------------\n",
      "Training class [6]\n",
      "---------------------------------------------------------------------\n",
      "Training class [7]\n",
      "---------------------------------------------------------------------\n",
      "Training class [8]\n",
      "---------------------------------------------------------------------\n",
      "Training class [9]\n",
      "---------------------------------------------------------------------\n"
     ]
    }
   ],
   "source": [
    "learning_rates = [0.0001, 0.001, 0.01, 0.1, 1.0, 1.5]\n",
    "\n",
    "epochs = 50\n",
    "\n",
    "train_size = 50000\n",
    "\n",
    "x_train_set = x_train_normalized[:train_size]\n",
    "y_train_set = y_train[:train_size]\n",
    "\n",
    "x_validation_set = x_train_normalized[train_size:]\n",
    "y_validaiton_set = y_train[train_size:]\n",
    "\n",
    "\n",
    "histories = []\n",
    "\n",
    "for eta in learning_rates:\n",
    "    print(f'Learning rate: {eta}')\n",
    "\n",
    "    start_time = time.perf_counter()\n",
    "\n",
    "    model, history = train_multiclass(x_train_set, y_train_set, eta, epochs, verbose=True)\n",
    "\n",
    "    time_taken = time.perf_counter() - start_time  \n",
    "\n",
    "    with open(f'learning_rate_[{eta}].m', 'wb') as f:\n",
    "        pickle.dump(model, f)\n",
    "\n",
    "    histories.append(\n",
    "      (   time_taken,\n",
    "          history,\n",
    "          *confusion_matrix(x_validation_set, y_validaiton_set, model)\n",
    "      )\n",
    "    )"
   ]
  },
  {
   "cell_type": "code",
   "execution_count": 18,
   "metadata": {
    "id": "GE_Rsyw1V0n9"
   },
   "outputs": [],
   "source": [
    "x_test, y_test = mndata.load_testing()\n",
    "\n",
    "x_test_normalized = []\n",
    "\n",
    "for image in x_test:          \n",
    "    x_test_normalized.append(prepare(image))"
   ]
  },
  {
   "cell_type": "code",
   "execution_count": 19,
   "metadata": {
    "id": "GwO1s9PKWS6k"
   },
   "outputs": [],
   "source": [
    "with open('learning_rate_[0.001].m', 'rb') as f:\n",
    "    model = pickle.load(f)\n",
    "\n",
    "matrix, accuracy = confusion_matrix(x_test_normalized, y_test, model)"
   ]
  },
  {
   "cell_type": "code",
   "execution_count": 43,
   "metadata": {
    "colab": {
     "base_uri": "https://localhost:8080/",
     "height": 447
    },
    "id": "HKgF5-4xfIqT",
    "outputId": "f02171aa-5492-4138-8dc5-77c65b2585ff"
   },
   "outputs": [
    {
     "data": {
      "image/png": "[encoded data removed]",
      "text/plain": [
       "<Figure size 640x480 with 6 Axes>"
      ]
     },
     "metadata": {},
     "output_type": "display_data"
    }
   ],
   "source": [
    "# draw confussion matrix\n",
    "\n",
    "fig, axs = plt.subplots(nrows=1, ncols=len(learning_rates))\n",
    "\n",
    "for i, ax in enumerate(axs.flat):\n",
    "    \n",
    "    ax.set_label(learning_rates[i])\n",
    "\n",
    "    ax.imshow(histories[i][2])\n",
    "    "
   ]
  },
  {
   "cell_type": "code",
   "execution_count": 42,
   "metadata": {},
   "outputs": [
    {
     "data": {
      "text/plain": [
       "[[954, 0, 6, 11, 3, 34, 5, 18, 3, 8],\n",
       " [0, 1029, 26, 7, 10, 15, 7, 17, 41, 8],\n",
       " [1, 11, 833, 16, 4, 9, 13, 20, 23, 11],\n",
       " [3, 4, 16, 878, 0, 87, 0, 6, 40, 16],\n",
       " [1, 0, 29, 1, 880, 26, 6, 12, 6, 43],\n",
       " [5, 5, 5, 46, 7, 638, 6, 3, 27, 10],\n",
       " [5, 2, 7, 8, 8, 28, 913, 1, 10, 2],\n",
       " [4, 3, 25, 5, 3, 12, 3, 977, 12, 53],\n",
       " [12, 9, 30, 42, 23, 45, 14, 1, 808, 23],\n",
       " [6, 1, 13, 16, 45, 21, 0, 35, 39, 787]]"
      ]
     },
     "execution_count": 42,
     "metadata": {},
     "output_type": "execute_result"
    }
   ],
   "source": []
  },
  {
   "cell_type": "code",
   "execution_count": null,
   "metadata": {},
   "outputs": [],
   "source": []
  }
 ],
 "metadata": {
  "colab": {
   "provenance": []
  },
  "kernelspec": {
   "display_name": "Python 3 (ipykernel)",
   "language": "python",
   "name": "python3"
  },
  "language_info": {
   "codemirror_mode": {
    "name": "ipython",
    "version": 3
   },
   "file_extension": ".py",
   "mimetype": "text/x-python",
   "name": "python",
   "nbconvert_exporter": "python",
   "pygments_lexer": "ipython3",
   "version": "3.10.6"
  }
 },
 "nbformat": 4,
 "nbformat_minor": 1
}
