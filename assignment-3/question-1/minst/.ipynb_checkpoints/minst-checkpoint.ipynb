{
 "cells": [
  {
   "cell_type": "code",
   "execution_count": 7,
   "metadata": {
    "id": "TRrtW63GQ_69"
   },
   "outputs": [],
   "source": [
    "# %pip install python-mnist\n",
    "# %pip install matplotlib\n",
    "\n",
    "import os\n",
    "import math\n",
    "import random\n",
    "from mnist import MNIST\n",
    "import matplotlib.pyplot as plt\n",
    "import matplotlib.patches as mpatches\n",
    "\n",
    "import pickle\n",
    "import time\n",
    "\n",
    "%matplotlib inline"
   ]
  },
  {
   "cell_type": "markdown",
   "metadata": {
    "id": "WqQUU1P1Q_7B"
   },
   "source": [
    "### Data preparation"
   ]
  },
  {
   "cell_type": "code",
   "execution_count": 8,
   "metadata": {
    "id": "BMeHcv_fQ_7F"
   },
   "outputs": [],
   "source": [
    "mndata = MNIST('dataset')\n",
    "\n",
    "x_train, y_train = mndata.load_training()"
   ]
  },
  {
   "cell_type": "code",
   "execution_count": 9,
   "metadata": {
    "id": "7SW47aUqQ_7F"
   },
   "outputs": [],
   "source": [
    "# Normalize input\n",
    "# append one feature  (for the bias term)\n",
    "\n",
    "x_train_normalized = [image[:] for image in x_train]\n",
    "\n",
    "\n",
    "for image in x_train_normalized:    \n",
    "    for idx, color in enumerate(image):\n",
    "        image[idx] = color / 255\n",
    "    \n",
    "    # for the bias\n",
    "    image.append(1)\n"
   ]
  },
  {
   "cell_type": "markdown",
   "metadata": {
    "id": "dtQT26EwQ_7G"
   },
   "source": [
    "### Logistic Regression"
   ]
  },
  {
   "cell_type": "code",
   "execution_count": 10,
   "metadata": {
    "id": "sGn5-guTQ_7I"
   },
   "outputs": [],
   "source": [
    "def sigmoid_scalar(x):\n",
    "    # to avoid overflow\n",
    "    if x < 0:\n",
    "        sigmoid = math.exp(x) / (1 + math.exp(x))\n",
    "    else:\n",
    "        sigmoid = 1 / (1 + math.exp(-x))\n",
    "\n",
    "    # to handle machine precision errors\n",
    "    sigmoid = max(0.0001, sigmoid)\n",
    "    sigmoid = min(0.9999, sigmoid)\n",
    "\n",
    "    return sigmoid"
   ]
  },
  {
   "cell_type": "code",
   "execution_count": 11,
   "metadata": {
    "id": "T9f7v-keQ_7I"
   },
   "outputs": [],
   "source": [
    "def argmax(values):\n",
    "    max_value = float('-inf')\n",
    "    max_index = 0\n",
    "\n",
    "    for idx, value in enumerate(values):\n",
    "        if value > max_value:\n",
    "            max_index = idx\n",
    "            max_value = value\n",
    "\n",
    "    return max_index\n"
   ]
  },
  {
   "cell_type": "code",
   "execution_count": 12,
   "metadata": {
    "id": "Q26D61H2Q_7J"
   },
   "outputs": [],
   "source": [
    "def predict(sample_x, weights):\n",
    "    # calculate z = sum(w * x + b)\n",
    "    # here bias (b) is also included in weights\n",
    "    z = 0\n",
    "    for x, w in zip(sample_x, weights):\n",
    "        z += w * x\n",
    "\n",
    "    # sigmoid(z)\n",
    "    return sigmoid_scalar(z)"
   ]
  },
  {
   "cell_type": "code",
   "execution_count": 13,
   "metadata": {
    "id": "wH64cwHIQ_7L"
   },
   "outputs": [],
   "source": [
    "def cross_entropy_loss(predicted_value, actual_value):\n",
    "    y = actual_value\n",
    "    y_pred = predicted_value    \n",
    "\n",
    "    if y == 1:        \n",
    "        return -math.log(y_pred)\n",
    "\n",
    "    else:        \n",
    "        return -math.log(1 - y_pred)"
   ]
  },
  {
   "cell_type": "code",
   "execution_count": 14,
   "metadata": {
    "id": "wGX5WiTGQ_7L"
   },
   "outputs": [],
   "source": [
    "def gradient_decent(X, label, weights=None, learning_rate=0.1):\n",
    "    n_features = len(X[0])\n",
    "\n",
    "    # initialize weight with random values (equal length to x's features)\n",
    "    if weights == None:\n",
    "        weights = [random.random() for _ in range(n_features)]\n",
    "\n",
    "    loss = 0\n",
    "\n",
    "    for x, y in zip(X, label):\n",
    "        y_pred = predict(x, weights)\n",
    "        loss += cross_entropy_loss(y_pred, y)\n",
    "\n",
    "        # dw = (y_pred - y) * x\n",
    "        # weight = weight - learning_rate * dw\n",
    "        err = y_pred - y\n",
    "        for i in range(n_features):\n",
    "            dw_i = err * x[i]\n",
    "            weights[i] -= learning_rate * dw_i\n",
    "\n",
    "    return weights, loss / len(X)"
   ]
  },
  {
   "cell_type": "code",
   "execution_count": 15,
   "metadata": {
    "id": "sndBLTHJQ_7M"
   },
   "outputs": [],
   "source": [
    "def train_binary_class(x_train, y_train, learning_rate, epoch, verbose=False):\n",
    "    weights = None\n",
    "\n",
    "    # for graphing\n",
    "    history = []\n",
    "\n",
    "    for i in range(epoch):\n",
    "        weights, loss = gradient_decent(x_train, y_train, weights, learning_rate)\n",
    "\n",
    "        history.append(loss)\n",
    "\n",
    "        if verbose:\n",
    "            print(f\"Epoch [{i}]\\n\\t- Cross entropy loss: {loss}\\n\")\n",
    "\n",
    "    return weights, history"
   ]
  },
  {
   "cell_type": "code",
   "execution_count": 16,
   "metadata": {
    "id": "qvqRd3ejQ_7N"
   },
   "outputs": [],
   "source": [
    "def train_multiclass(x_train, y_train, learning_rate, epoch, verbose=False):\n",
    "    # identify unique classes\n",
    "    classes = range(0, 10)\n",
    "\n",
    "    # for each class create separate labels suitable for binary classification\n",
    "    labels = [[] for _ in classes]\n",
    "\n",
    "    for class_ in classes:\n",
    "        for label in y_train:            \n",
    "            if label == class_:\n",
    "                labels[class_].append(1)\n",
    "\n",
    "            else:\n",
    "                labels[class_].append(0)\n",
    "    \n",
    "    # now that we have separate labels for each class\n",
    "    # lets train binary classifier for each class\n",
    "    # (each classifier will identify whether sample x is member of class or not)\n",
    "\n",
    "    # we have 10 classes so we need 10 binary classifiers\n",
    "    classifiers = [None] * 10\n",
    "    histories = [None] * 10\n",
    "\n",
    "    for cls_, label in enumerate(labels):\n",
    "        if verbose:\n",
    "            print(f'Training class [{cls_}]')\n",
    "\n",
    "        weights, history = train_binary_class(x_train, label, learning_rate, epoch)        \n",
    "\n",
    "        classifiers[cls_] = weights\n",
    "        histories[cls_] = history\n",
    "\n",
    "        if verbose:\n",
    "            print('---------------------------------------------------------------------')\n",
    "    \n",
    "\n",
    "    return classifiers, histories"
   ]
  },
  {
   "cell_type": "code",
   "execution_count": 17,
   "metadata": {
    "id": "tgprAe-oQ_7P"
   },
   "outputs": [],
   "source": [
    "def predict_class(sample_x, model):\n",
    "    class_probabilities = []\n",
    "    \n",
    "    for weights in model:\n",
    "        class_probability = predict(sample_x, weights)\n",
    "        class_probabilities.append(class_probability)\n",
    "    \n",
    "    return argmax(class_probabilities)"
   ]
  },
  {
   "cell_type": "code",
   "execution_count": 18,
   "metadata": {
    "id": "cCekxVigjWmy"
   },
   "outputs": [],
   "source": [
    "# sum([predict_class(x_train_normalized[i], model) == y_train[i] for i in range(60000)])\n",
    "\n",
    "def confusion_matrix(test_x, label, model):\n",
    "  grid = [[0] * 10 for _ in range(10)]\n",
    "  net_accuracy = 0\n",
    "\n",
    "  for i in range(len(test_x)):\n",
    "    prediction = predict_class(test_x[i], model)\n",
    "    \n",
    "    grid[prediction][label[i]] += 1\n",
    "    \n",
    "    if prediction == label[i]:\n",
    "      net_accuracy += 1              \n",
    "    \n",
    "  return grid, net_accuracy / len(test_x)\n"
   ]
  },
  {
   "cell_type": "markdown",
   "metadata": {
    "id": "ztPTVh2wQ_7Q"
   },
   "source": [
    "### Training"
   ]
  },
  {
   "cell_type": "code",
   "execution_count": null,
   "metadata": {
    "colab": {
     "base_uri": "https://localhost:8080/"
    },
    "id": "TIsesQrSQ_7Q",
    "outputId": "f2c4e808-c11a-48d2-c0a2-d1c4f6e279e6"
   },
   "outputs": [
    {
     "name": "stdout",
     "output_type": "stream",
     "text": [
      "Learning rate: 1.0\n",
      "Training class [0]\n",
      "---------------------------------------------------------------------\n",
      "Training class [1]\n",
      "---------------------------------------------------------------------\n",
      "Training class [2]\n",
      "---------------------------------------------------------------------\n",
      "Training class [3]\n",
      "---------------------------------------------------------------------\n",
      "Training class [4]\n",
      "---------------------------------------------------------------------\n",
      "Training class [5]\n",
      "---------------------------------------------------------------------\n",
      "Training class [6]\n",
      "---------------------------------------------------------------------\n",
      "Training class [7]\n",
      "---------------------------------------------------------------------\n",
      "Training class [8]\n",
      "---------------------------------------------------------------------\n",
      "Training class [9]\n",
      "---------------------------------------------------------------------\n",
      "Learning rate: 1.5\n",
      "Training class [0]\n",
      "---------------------------------------------------------------------\n",
      "Training class [1]\n",
      "---------------------------------------------------------------------\n",
      "Training class [2]\n",
      "---------------------------------------------------------------------\n",
      "Training class [3]\n",
      "---------------------------------------------------------------------\n",
      "Training class [4]\n",
      "---------------------------------------------------------------------\n",
      "Training class [5]\n",
      "---------------------------------------------------------------------\n",
      "Training class [6]\n",
      "---------------------------------------------------------------------\n",
      "Training class [7]\n",
      "---------------------------------------------------------------------\n",
      "Training class [8]\n",
      "---------------------------------------------------------------------\n",
      "Training class [9]\n",
      "---------------------------------------------------------------------\n"
     ]
    }
   ],
   "source": [
    "learning_rates = [0.0001, 0.001, 0.01, 0.1, 1.0, 1.5]\n",
    "\n",
    "epochs = 10\n",
    "\n",
    "train_size = 50000\n",
    "\n",
    "x_train_set = x_train_normalized[:train_size]\n",
    "y_train_set = y_train[:train_size]\n",
    "\n",
    "x_validation_set = x_train_normalized[train_size:]\n",
    "y_validaiton_set = y_train[train_size:]\n",
    "\n",
    "\n",
    "history = []\n",
    "\n",
    "for eta in learning_rates:\n",
    "  print(f'Learning rate: {eta}')\n",
    "\n",
    "  start_time = time.perf_counter()\n",
    "  \n",
    "  model, histories = train_multiclass(x_train_set, y_train_set, eta, epochs, verbose=True)\n",
    "  \n",
    "  time_taken = time.perf_counter() - start_time  \n",
    "\n",
    "  with open(f'learning_rate_[{eta}].m', 'wb') as f:\n",
    "    pickle.dump(model, f)\n",
    "  \n",
    "  history.append(\n",
    "      (   time_taken,\n",
    "          histories,\n",
    "          *confusion_matrix(x_validation_set, y_validaiton_set, model)\n",
    "      )\n",
    "  )\n",
    "  "
   ]
  },
  {
   "cell_type": "code",
   "execution_count": null,
   "metadata": {
    "id": "8RMNiBOaQ_7R"
   },
   "outputs": [],
   "source": []
  },
  {
   "cell_type": "code",
   "execution_count": null,
   "metadata": {
    "colab": {
     "base_uri": "https://localhost:8080/",
     "height": 447
    },
    "id": "RDZ6_TQCVpRi",
    "outputId": "064fa841-84d5-4b9e-d097-c3ab44758897"
   },
   "outputs": [
    {
     "data": {
      "text/plain": [
       "<matplotlib.image.AxesImage at 0x7f9ec5406590>"
      ]
     },
     "execution_count": 166,
     "metadata": {},
     "output_type": "execute_result"
    },
    {
     "data": {
      "image/png": "[encoded data removed]",
      "text/plain": [
       "<Figure size 640x480 with 1 Axes>"
      ]
     },
     "metadata": {},
     "output_type": "display_data"
    }
   ],
   "source": [
    "data = history[1][1]\n",
    "plt.imshow(data, interpolation='none')\n"
   ]
  },
  {
   "cell_type": "code",
   "execution_count": 19,
   "metadata": {
    "id": "GE_Rsyw1V0n9"
   },
   "outputs": [],
   "source": [
    "learning_rates = [0.0001, 0.001, 0.01, 0.1, 1.0, 1.5]\n",
    "\n",
    "x_test, y_test = mndata.load_testing()\n",
    "\n",
    "x_test_normalized = [image[:] for image in x_test]\n",
    "\n",
    "for image in x_test_normalized:    \n",
    "    for idx, color in enumerate(image):\n",
    "        image[idx] = color / 255\n",
    "    \n",
    "    # for the bias\n",
    "    image.append(1)"
   ]
  },
  {
   "cell_type": "code",
   "execution_count": 36,
   "metadata": {
    "id": "GwO1s9PKWS6k"
   },
   "outputs": [],
   "source": [
    "with open('models_naive/learning_rate_[0.01].m', 'rb') as f:\n",
    "  model = pickle.load(f)\n",
    "\n",
    "matrix, accuracy = confusion_matrix(x_test_normalized, y_test, model)"
   ]
  },
  {
   "cell_type": "code",
   "execution_count": 37,
   "metadata": {
    "colab": {
     "base_uri": "https://localhost:8080/",
     "height": 447
    },
    "id": "HKgF5-4xfIqT",
    "outputId": "f02171aa-5492-4138-8dc5-77c65b2585ff"
   },
   "outputs": [
    {
     "data": {
      "text/plain": [
       "<matplotlib.image.AxesImage at 0x1fae9f60250>"
      ]
     },
     "execution_count": 37,
     "metadata": {},
     "output_type": "execute_result"
    },
    {
     "data": {
      "image/png": "[encoded data removed]",
      "text/plain": [
       "<Figure size 640x480 with 1 Axes>"
      ]
     },
     "metadata": {},
     "output_type": "display_data"
    }
   ],
   "source": [
    "plt.imshow(matrix)"
   ]
  },
  {
   "cell_type": "code",
   "execution_count": 38,
   "metadata": {
    "colab": {
     "base_uri": "https://localhost:8080/"
    },
    "id": "nQpOGvUXfRnS",
    "outputId": "0e226f16-857a-4877-92c9-100c9da6c00c"
   },
   "outputs": [
    {
     "data": {
      "text/plain": [
       "0.9115"
      ]
     },
     "execution_count": 38,
     "metadata": {},
     "output_type": "execute_result"
    }
   ],
   "source": [
    "accuracy"
   ]
  },
  {
   "cell_type": "code",
   "execution_count": 35,
   "metadata": {
    "id": "0VNK-DanfUHT"
   },
   "outputs": [],
   "source": [
    "test_accuracy = [0.85853, 0.9047, 0.91587, 0.87687, 0.834217, 0.83115]"
   ]
  },
  {
   "cell_type": "code",
   "execution_count": 3,
   "metadata": {
    "id": "rLjHufZHkB-u"
   },
   "outputs": [],
   "source": [
    "test_accuracy = []\n",
    "for eta in learning_rates:\n",
    "    with open(f'models_naive/learning_rate_[{eta}].m', 'rb') as f:\n",
    "        model = pickle.load(f)\n",
    "\n",
    "        matrix, accuracy = confusion_matrix(x_test_normalized, y_test, model)\n",
    "        test_accuracy.append(accuracy)"
   ]
  },
  {
   "cell_type": "code",
   "execution_count": null,
   "metadata": {
    "colab": {
     "base_uri": "https://localhost:8080/",
     "height": 380
    },
    "id": "4NLM5AZ4kZHb",
    "outputId": "66b06250-23e4-4ca9-fd9d-0e4d37060fe4"
   },
   "outputs": [
    {
     "data": {
      "image/png": "[encoded data removed]",
      "text/plain": [
       "<Figure size 1500x500 with 1 Axes>"
      ]
     },
     "metadata": {},
     "output_type": "display_data"
    }
   ],
   "source": [
    "plt.rcParams[\"figure.figsize\"] = (15,5)\n",
    "\n",
    "plt.plot(learning_rates, test_accuracy, 'bo')\n",
    "plt.xlabel('Learning rates')\n",
    "plt.ylabel('Accuracy')\n",
    "plt.xticks(learning_rates, rotation=90)\n",
    "\n",
    "plt.rcParams[\"figure.figsize\"] = plt.rcParamsDefault[\"figure.figsize\"]"
   ]
  },
  {
   "cell_type": "code",
   "execution_count": null,
   "metadata": {
    "id": "JxJzts0kk42p"
   },
   "outputs": [],
   "source": []
  },
  {
   "cell_type": "code",
   "execution_count": null,
   "metadata": {
    "id": "9aWiqjC7sNhh"
   },
   "outputs": [],
   "source": []
  }
 ],
 "metadata": {
  "colab": {
   "provenance": []
  },
  "kernelspec": {
   "display_name": "Python 3 (ipykernel)",
   "language": "python",
   "name": "python3"
  },
  "language_info": {
   "codemirror_mode": {
    "name": "ipython",
    "version": 3
   },
   "file_extension": ".py",
   "mimetype": "text/x-python",
   "name": "python",
   "nbconvert_exporter": "python",
   "pygments_lexer": "ipython3",
   "version": "3.10.6"
  }
 },
 "nbformat": 4,
 "nbformat_minor": 1
}
