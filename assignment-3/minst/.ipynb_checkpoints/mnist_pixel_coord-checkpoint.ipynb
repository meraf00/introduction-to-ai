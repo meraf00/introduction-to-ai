{
 "cells": [
  {
   "cell_type": "code",
   "execution_count": 1,
   "metadata": {
    "id": "TRrtW63GQ_69"
   },
   "outputs": [
    {
     "name": "stdout",
     "output_type": "stream",
     "text": [
      "Requirement already satisfied: python-mnist in c:\\users\\l\\appdata\\local\\programs\\python\\python310\\lib\\site-packages (0.7)\n",
      "Note: you may need to restart the kernel to use updated packages.\n"
     ]
    }
   ],
   "source": [
    "# %pip install python-mnist\n",
    "# %pip install matplotlib\n",
    "\n",
    "import os\n",
    "import math\n",
    "import random\n",
    "from mnist import MNIST\n",
    "import matplotlib.pyplot as plt\n",
    "import matplotlib.patches as mpatches\n",
    "\n",
    "import pickle\n",
    "import time\n",
    "\n",
    "%matplotlib inline"
   ]
  },
  {
   "cell_type": "markdown",
   "metadata": {
    "id": "WqQUU1P1Q_7B"
   },
   "source": [
    "### Data preparation"
   ]
  },
  {
   "cell_type": "code",
   "execution_count": 2,
   "metadata": {
    "id": "BMeHcv_fQ_7F"
   },
   "outputs": [],
   "source": [
    "mndata = MNIST('dataset')\n",
    "\n",
    "x_train, y_train = mndata.load_training()"
   ]
  },
  {
   "cell_type": "markdown",
   "metadata": {},
   "source": [
    "### Analysis"
   ]
  },
  {
   "cell_type": "code",
   "execution_count": 3,
   "metadata": {},
   "outputs": [],
   "source": [
    "overlayed = {i: [0] * 784 for i in range(10)}\n",
    "\n",
    "for image, cls_ in zip(x_train, y_train):\n",
    "    for idx, color in enumerate(image):        \n",
    "        overlayed[cls_][idx] += (color/255)\n",
    "\n",
    "# overlayed"
   ]
  },
  {
   "cell_type": "code",
   "execution_count": 4,
   "metadata": {},
   "outputs": [
    {
     "name": "stdout",
     "output_type": "stream",
     "text": [
      "6511.984313725561\n"
     ]
    },
    {
     "data": {
      "image/png": "[encoded data removed]",
      "text/plain": [
       "<Figure size 640x480 with 1 Axes>"
      ]
     },
     "metadata": {},
     "output_type": "display_data"
    }
   ],
   "source": [
    "import numpy as np\n",
    "plt.imshow(np.array(overlayed[1]).reshape(28, 28))\n",
    "print(max(overlayed[1]))"
   ]
  },
  {
   "cell_type": "code",
   "execution_count": 5,
   "metadata": {},
   "outputs": [],
   "source": [
    "def flatten(array):\n",
    "    flat = []\n",
    "\n",
    "    for item in array:\n",
    "        try:\n",
    "            iter(item)\n",
    "            flat.extend(flatten(item))\n",
    "        except:\n",
    "            flat.append(item)\n",
    "\n",
    "    return flat\n",
    "\n",
    "\n",
    "def reshape(array, rows, cols):\n",
    "    flat_array = flatten(array)\n",
    "\n",
    "    if rows * cols != len(flat_array):\n",
    "        raise Exception(f\"Can't reshape array to ({rows}, {cols})\")\n",
    "\n",
    "    reshaped = [[0] * cols for _ in range(rows)]    \n",
    "\n",
    "    for row in range(rows):\n",
    "        for col in range(cols):\n",
    "            reshaped[row][col] = flat_array[row * cols + col]\n",
    "\n",
    "    return reshaped\n"
   ]
  },
  {
   "cell_type": "code",
   "execution_count": 6,
   "metadata": {
    "id": "7SW47aUqQ_7F"
   },
   "outputs": [],
   "source": [
    "def prepare(image):\n",
    "    # image = reshape(image, 28, 28)\n",
    "\n",
    "    # output = []\n",
    "    \n",
    "    # # major diagonal\n",
    "    # for i in range(28):\n",
    "    #     output.append(image[i][i] / 255)\n",
    "    \n",
    "    # # minor diagonal\n",
    "    # for i in range(28):\n",
    "    #     output.append(image[27 - i][i] / 255)\n",
    "    \n",
    "    # # center horizontal    \n",
    "    # for i in range(28):\n",
    "    #     output.append(image[14][i] / 255)\n",
    "\n",
    "    # # center vertical\n",
    "    # for j in range(12, 18):\n",
    "    #     for i in range(28):        \n",
    "    #         output.append(image[i][j] / 255)\n",
    "    \n",
    "    # output.append(1)\n",
    "\n",
    "\n",
    "    # return output\n",
    "    image = image[:]\n",
    "       \n",
    "    for idx, color in enumerate(image):\n",
    "        image[idx] = color / 255\n",
    "    \n",
    "    # for the bias\n",
    "    image.append(1)\n",
    "    \n",
    "    return image\n",
    "\n",
    "\n",
    "    \n"
   ]
  },
  {
   "cell_type": "code",
   "execution_count": 7,
   "metadata": {},
   "outputs": [],
   "source": [
    "# Normalize input\n",
    "# append one feature  (for the bias term)\n",
    "\n",
    "x_train_normalized = []\n",
    "\n",
    "for image in x_train:\n",
    "    x_train_normalized.append(prepare(image))"
   ]
  },
  {
   "cell_type": "code",
   "execution_count": null,
   "metadata": {},
   "outputs": [],
   "source": []
  },
  {
   "cell_type": "markdown",
   "metadata": {
    "id": "dtQT26EwQ_7G"
   },
   "source": [
    "### Logistic Regression"
   ]
  },
  {
   "cell_type": "code",
   "execution_count": 8,
   "metadata": {
    "id": "sGn5-guTQ_7I"
   },
   "outputs": [],
   "source": [
    "def sigmoid_scalar(x):\n",
    "    # to avoid overflow\n",
    "    if x < 0:\n",
    "      sigmoid = math.exp(x) / (1 + math.exp(x))\n",
    "    else:\n",
    "      sigmoid = 1 / (1 + math.exp(-x))\n",
    "\n",
    "    # to handle machine precision errors\n",
    "    sigmoid = max(0.0001, sigmoid)\n",
    "    sigmoid = min(0.9999, sigmoid)\n",
    "\n",
    "    return sigmoid"
   ]
  },
  {
   "cell_type": "code",
   "execution_count": 9,
   "metadata": {
    "id": "T9f7v-keQ_7I"
   },
   "outputs": [],
   "source": [
    "def argmax(values):\n",
    "    max_value = float('-inf')\n",
    "    max_index = 0\n",
    "\n",
    "    for idx, value in enumerate(values):\n",
    "        if value > max_value:\n",
    "            max_index = idx\n",
    "            max_value = value\n",
    "\n",
    "    return max_index\n"
   ]
  },
  {
   "cell_type": "code",
   "execution_count": 10,
   "metadata": {
    "id": "Q26D61H2Q_7J"
   },
   "outputs": [],
   "source": [
    "def predict(sample_x, weights):\n",
    "    # calculate z = sum(w * x + b)\n",
    "    # here bias (b) is also included in weights\n",
    "    z = 0\n",
    "    for x, w in zip(sample_x, weights):\n",
    "        z += w * x\n",
    "\n",
    "    # sigmoid(z)\n",
    "    return sigmoid_scalar(z)"
   ]
  },
  {
   "cell_type": "code",
   "execution_count": 11,
   "metadata": {
    "id": "wH64cwHIQ_7L"
   },
   "outputs": [],
   "source": [
    "def cross_entropy_loss(predicted_value, actual_value):\n",
    "    y = actual_value\n",
    "    y_pred = predicted_value    \n",
    "\n",
    "    if y == 1:        \n",
    "        return -math.log(y_pred)\n",
    "\n",
    "    else:        \n",
    "        return -math.log(1 - y_pred)"
   ]
  },
  {
   "cell_type": "code",
   "execution_count": 12,
   "metadata": {
    "id": "wGX5WiTGQ_7L"
   },
   "outputs": [],
   "source": [
    "def gradient_decent(X, label, weights=None, learning_rate=0.1):\n",
    "    n_features = len(X[0])\n",
    "\n",
    "    # initialize weight with random values (equal length to x's features)\n",
    "    if weights == None:\n",
    "        weights = [random.random() for _ in range(n_features)]\n",
    "\n",
    "    loss = 0\n",
    "\n",
    "    for x, y in zip(X, label):\n",
    "        y_pred = predict(x, weights)\n",
    "        loss += cross_entropy_loss(y_pred, y)\n",
    "\n",
    "        # dw = (y_pred - y) * x\n",
    "        # weight = weight - learning_rate * dw\n",
    "        err = y_pred - y\n",
    "        for i in range(n_features):\n",
    "            dw_i = err * x[i]\n",
    "            weights[i] -= learning_rate * dw_i\n",
    "\n",
    "    return weights, loss / len(X)"
   ]
  },
  {
   "cell_type": "code",
   "execution_count": 13,
   "metadata": {
    "id": "sndBLTHJQ_7M"
   },
   "outputs": [],
   "source": [
    "def train_binary_class(x_train, y_train, learning_rate, epoch, verbose=False):\n",
    "    weights = None\n",
    "\n",
    "    # for graphing\n",
    "    history = []\n",
    "\n",
    "    for i in range(epoch):\n",
    "        weights, loss = gradient_decent(x_train, y_train, weights, learning_rate)\n",
    "\n",
    "        history.append(loss)\n",
    "\n",
    "        if verbose:\n",
    "            print(f\"Epoch [{i}]\\n\\t- Cross entropy loss: {loss}\\n\")\n",
    "\n",
    "    return weights, history"
   ]
  },
  {
   "cell_type": "code",
   "execution_count": 14,
   "metadata": {
    "id": "qvqRd3ejQ_7N"
   },
   "outputs": [],
   "source": [
    "def train_multiclass(x_train, y_train, learning_rate, epoch, verbose=False):\n",
    "    # identify unique classes\n",
    "    classes = range(0, 10)\n",
    "\n",
    "    # for each class create separate labels suitable for binary classification\n",
    "    labels = [[] for _ in classes]\n",
    "\n",
    "    for class_ in classes:\n",
    "        for label in y_train:            \n",
    "            if label == class_:\n",
    "                labels[class_].append(1)\n",
    "\n",
    "            else:\n",
    "                labels[class_].append(0)\n",
    "    \n",
    "    # now that we have separate labels for each class\n",
    "    # lets train binary classifier for each class\n",
    "    # (each classifier will identify whether sample x is member of class or not)\n",
    "\n",
    "    # we have 10 classes so we need 10 binary classifiers\n",
    "    classifiers = [None] * 10\n",
    "    histories = [None] * 10\n",
    "\n",
    "    for cls_, label in enumerate(labels):\n",
    "        if verbose:\n",
    "            print(f'Training class [{cls_}]')\n",
    "\n",
    "        weights, history = train_binary_class(x_train, label, learning_rate, epoch)        \n",
    "\n",
    "        classifiers[cls_] = weights\n",
    "        histories[cls_] = history\n",
    "\n",
    "        if verbose:\n",
    "            print('---------------------------------------------------------------------')\n",
    "    \n",
    "\n",
    "    return classifiers, histories"
   ]
  },
  {
   "cell_type": "code",
   "execution_count": 15,
   "metadata": {
    "id": "tgprAe-oQ_7P"
   },
   "outputs": [],
   "source": [
    "def predict_class(sample_x, model):\n",
    "    class_probabilities = []\n",
    "    \n",
    "    for weights in model:\n",
    "        class_probability = predict(sample_x, weights)\n",
    "        class_probabilities.append(class_probability)\n",
    "    \n",
    "    return argmax(class_probabilities)"
   ]
  },
  {
   "cell_type": "code",
   "execution_count": 16,
   "metadata": {
    "id": "cCekxVigjWmy"
   },
   "outputs": [],
   "source": [
    "# sum([predict_class(x_train_normalized[i], model) == y_train[i] for i in range(60000)])\n",
    "\n",
    "def confusion_matrix(test_x, label, model):\n",
    "  print(test_x)\n",
    "  \n",
    "  grid = [[0] * 10 for _ in range(10)]\n",
    "  net_accuracy = 0\n",
    "\n",
    "  print(len(label))\n",
    "\n",
    "  for i in range(len(test_x)):\n",
    "    prediction = predict_class(test_x[i], model)\n",
    "    \n",
    "    actual = label[i]\n",
    "    \n",
    "    grid[prediction][actual] += 1\n",
    "    \n",
    "    if prediction == label[i]:\n",
    "      net_accuracy += 1              \n",
    "    \n",
    "  return grid, net_accuracy / len(test_x)\n"
   ]
  },
  {
   "cell_type": "markdown",
   "metadata": {
    "id": "ztPTVh2wQ_7Q"
   },
   "source": [
    "### Training"
   ]
  },
  {
   "cell_type": "code",
   "execution_count": 17,
   "metadata": {
    "colab": {
     "base_uri": "https://localhost:8080/"
    },
    "id": "TIsesQrSQ_7Q",
    "outputId": "f2c4e808-c11a-48d2-c0a2-d1c4f6e279e6"
   },
   "outputs": [
    {
     "name": "stdout",
     "output_type": "stream",
     "text": [
      "Training class [0]\n",
      "---------------------------------------------------------------------\n",
      "Training class [1]\n",
      "---------------------------------------------------------------------\n",
      "Training class [2]\n",
      "---------------------------------------------------------------------\n",
      "Training class [3]\n",
      "---------------------------------------------------------------------\n",
      "Training class [4]\n",
      "---------------------------------------------------------------------\n",
      "Training class [5]\n",
      "---------------------------------------------------------------------\n",
      "Training class [6]\n",
      "---------------------------------------------------------------------\n",
      "Training class [7]\n",
      "---------------------------------------------------------------------\n",
      "Training class [8]\n",
      "---------------------------------------------------------------------\n",
      "Training class [9]\n",
      "---------------------------------------------------------------------\n"
     ]
    },
    {
     "data": {
      "text/plain": [
       "[[0.3995735679839469,\n",
       "  0.12830254922110235,\n",
       "  0.055457091207956125,\n",
       "  0.025257896061899696,\n",
       "  0.04679869423355501,\n",
       "  0.03180363887737216,\n",
       "  0.04336693521909601,\n",
       "  0.007478794680184139,\n",
       "  0.00010434948289761851,\n",
       "  0.00010683002313363516],\n",
       " [0.4758196569287432,\n",
       "  0.29125849311783314,\n",
       "  0.213500283708665,\n",
       "  0.1716859726592767,\n",
       "  0.07991965536565124,\n",
       "  0.05621036646703542,\n",
       "  0.07719784973480982,\n",
       "  0.00010456104890407907,\n",
       "  0.00010180115244171588,\n",
       "  0.00010069636015424502],\n",
       " [0.8386257147086416,\n",
       "  0.3155317340202878,\n",
       "  0.224767270435789,\n",
       "  0.017776515943893366,\n",
       "  0.006551384984873431,\n",
       "  0.00010437800237871002,\n",
       "  0.0001008981170752424,\n",
       "  0.000100466028947047,\n",
       "  0.0001015286164782966,\n",
       "  0.00010433167847898911],\n",
       " [0.6574310373548811,\n",
       "  0.21587611780310065,\n",
       "  0.0822871888875874,\n",
       "  0.10438742003578728,\n",
       "  0.06762703024900697,\n",
       "  0.016152883285556658,\n",
       "  0.0006482599645658067,\n",
       "  0.00011717574580451242,\n",
       "  0.00012227722832643646,\n",
       "  0.00012484063868468183],\n",
       " [0.5230193505241308,\n",
       "  0.15576390124514736,\n",
       "  0.16510039717241662,\n",
       "  0.06710641759498323,\n",
       "  0.041997772807475714,\n",
       "  0.010149488749747158,\n",
       "  0.00010192942494908138,\n",
       "  0.0001005177317991464,\n",
       "  0.00010147541593730672,\n",
       "  0.00010576843943345675],\n",
       " [0.6244312399827778,\n",
       "  0.4901363181195161,\n",
       "  0.34529272657816745,\n",
       "  0.2230451554862694,\n",
       "  0.27493580553480973,\n",
       "  0.1507935740564531,\n",
       "  0.13297238489748153,\n",
       "  0.15376546762602797,\n",
       "  0.058008086570587036,\n",
       "  0.131047015226882],\n",
       " [0.4782851112147515,\n",
       "  0.22722793122872714,\n",
       "  0.05046844771264192,\n",
       "  0.09762363410897554,\n",
       "  0.0006585592874584757,\n",
       "  0.00015863553643616569,\n",
       "  0.00010136069112410444,\n",
       "  0.00010021937251210056,\n",
       "  0.00010000500033334673,\n",
       "  0.00010000500033334673],\n",
       " [0.611830904234181,\n",
       "  0.30102008096954413,\n",
       "  0.1563593257294978,\n",
       "  0.15951487517203147,\n",
       "  0.11897040605239058,\n",
       "  0.04259902253390544,\n",
       "  0.08190836034218749,\n",
       "  0.0553237491814272,\n",
       "  0.02353302554508345,\n",
       "  0.0002051252283208376],\n",
       " [1.01474530525556,\n",
       "  0.3770274679878668,\n",
       "  0.4389592828373726,\n",
       "  0.376957712274586,\n",
       "  0.34679466525387004,\n",
       "  0.14777391406374724,\n",
       "  0.13080477586663228,\n",
       "  0.10826627604213525,\n",
       "  0.04566635434861615,\n",
       "  0.032454010577850544],\n",
       " [0.9007696239126924,\n",
       "  0.38368088288953167,\n",
       "  0.23501190310288506,\n",
       "  0.29941216300462964,\n",
       "  0.13541981900275182,\n",
       "  0.19456501910840954,\n",
       "  0.11408922042447135,\n",
       "  0.13533626869096024,\n",
       "  0.047208006974634904,\n",
       "  0.07149455292877915]]"
      ]
     },
     "execution_count": 17,
     "metadata": {},
     "output_type": "execute_result"
    }
   ],
   "source": [
    "learning_rate = 1\n",
    "\n",
    "epochs = 10\n",
    "\n",
    "train_size = 500\n",
    "\n",
    "x_train_set = x_train_normalized[:train_size]\n",
    "y_train_set = y_train[:train_size]\n",
    "\n",
    "x_validation_set = x_train_normalized[train_size:]\n",
    "y_validaiton_set = y_train[train_size:]\n",
    "\n",
    "model, history = train_multiclass(x_train_set, y_train_set, learning_rate, epochs, verbose=True)\n",
    "history\n",
    "  "
   ]
  },
  {
   "cell_type": "code",
   "execution_count": 18,
   "metadata": {
    "id": "GE_Rsyw1V0n9"
   },
   "outputs": [],
   "source": [
    "x_test, y_test = mndata.load_testing()\n",
    "\n",
    "x_test_normalized = []\n",
    "\n",
    "for image in x_test:          \n",
    "    x_test_normalized.append(prepare(image))"
   ]
  },
  {
   "cell_type": "code",
   "execution_count": null,
   "metadata": {},
   "outputs": [],
   "source": []
  },
  {
   "cell_type": "code",
   "execution_count": 19,
   "metadata": {
    "id": "GwO1s9PKWS6k"
   },
   "outputs": [
    {
     "name": "stderr",
     "output_type": "stream",
     "text": [
      "IOPub data rate exceeded.\n",
      "The notebook server will temporarily stop sending output\n",
      "to the client in order to avoid crashing it.\n",
      "To change this limit, set the config variable\n",
      "`--NotebookApp.iopub_data_rate_limit`.\n",
      "\n",
      "Current values:\n",
      "NotebookApp.iopub_data_rate_limit=1000000.0 (bytes/sec)\n",
      "NotebookApp.rate_limit_window=3.0 (secs)\n",
      "\n"
     ]
    },
    {
     "ename": "IndexError",
     "evalue": "array index out of range",
     "output_type": "error",
     "traceback": [
      "\u001b[1;31m---------------------------------------------------------------------------\u001b[0m",
      "\u001b[1;31mIndexError\u001b[0m                                Traceback (most recent call last)",
      "Cell \u001b[1;32mIn[19], line 4\u001b[0m\n\u001b[0;32m      1\u001b[0m \u001b[38;5;66;03m# with open('learning_rate_[0.001].m', 'rb') as f:\u001b[39;00m\n\u001b[0;32m      2\u001b[0m \u001b[38;5;66;03m#   model = pickle.load(f)\u001b[39;00m\n\u001b[1;32m----> 4\u001b[0m matrix, accuracy \u001b[38;5;241m=\u001b[39m \u001b[43mconfusion_matrix\u001b[49m\u001b[43m(\u001b[49m\u001b[43mx_test_normalized\u001b[49m\u001b[43m,\u001b[49m\u001b[43m \u001b[49m\u001b[43my_test\u001b[49m\u001b[43m[\u001b[49m\u001b[43m:\u001b[49m\u001b[38;5;241;43m500\u001b[39;49m\u001b[43m]\u001b[49m\u001b[43m,\u001b[49m\u001b[43m \u001b[49m\u001b[43mmodel\u001b[49m\u001b[43m)\u001b[49m\n\u001b[0;32m      5\u001b[0m accuracy\n",
      "Cell \u001b[1;32mIn[16], line 14\u001b[0m, in \u001b[0;36mconfusion_matrix\u001b[1;34m(test_x, label, model)\u001b[0m\n\u001b[0;32m     11\u001b[0m \u001b[38;5;28;01mfor\u001b[39;00m i \u001b[38;5;129;01min\u001b[39;00m \u001b[38;5;28mrange\u001b[39m(\u001b[38;5;28mlen\u001b[39m(test_x)):\n\u001b[0;32m     12\u001b[0m   prediction \u001b[38;5;241m=\u001b[39m predict_class(test_x[i], model)\n\u001b[1;32m---> 14\u001b[0m   actual \u001b[38;5;241m=\u001b[39m \u001b[43mlabel\u001b[49m\u001b[43m[\u001b[49m\u001b[43mi\u001b[49m\u001b[43m]\u001b[49m\n\u001b[0;32m     16\u001b[0m   grid[prediction][actual] \u001b[38;5;241m+\u001b[39m\u001b[38;5;241m=\u001b[39m \u001b[38;5;241m1\u001b[39m\n\u001b[0;32m     18\u001b[0m   \u001b[38;5;28;01mif\u001b[39;00m prediction \u001b[38;5;241m==\u001b[39m label[i]:\n",
      "\u001b[1;31mIndexError\u001b[0m: array index out of range"
     ]
    }
   ],
   "source": [
    "# with open('learning_rate_[0.001].m', 'rb') as f:\n",
    "#   model = pickle.load(f)\n",
    "\n",
    "matrix, accuracy = confusion_matrix(x_test_normalized, y_test[:500], model)\n",
    "accuracy"
   ]
  },
  {
   "cell_type": "code",
   "execution_count": null,
   "metadata": {
    "colab": {
     "base_uri": "https://localhost:8080/",
     "height": 447
    },
    "id": "HKgF5-4xfIqT",
    "outputId": "f02171aa-5492-4138-8dc5-77c65b2585ff"
   },
   "outputs": [],
   "source": [
    "plt.imshow(matrix)"
   ]
  },
  {
   "cell_type": "code",
   "execution_count": null,
   "metadata": {},
   "outputs": [],
   "source": []
  },
  {
   "cell_type": "code",
   "execution_count": null,
   "metadata": {},
   "outputs": [],
   "source": []
  }
 ],
 "metadata": {
  "colab": {
   "provenance": []
  },
  "kernelspec": {
   "display_name": "Python 3 (ipykernel)",
   "language": "python",
   "name": "python3"
  },
  "language_info": {
   "codemirror_mode": {
    "name": "ipython",
    "version": 3
   },
   "file_extension": ".py",
   "mimetype": "text/x-python",
   "name": "python",
   "nbconvert_exporter": "python",
   "pygments_lexer": "ipython3",
   "version": "3.10.6"
  }
 },
 "nbformat": 4,
 "nbformat_minor": 1
}
